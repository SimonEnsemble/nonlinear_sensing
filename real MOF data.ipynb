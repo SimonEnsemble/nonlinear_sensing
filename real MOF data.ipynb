{
 "cells": [
  {
   "cell_type": "code",
   "execution_count": 118,
   "metadata": {},
   "outputs": [],
   "source": [
    "import matplotlib.pyplot as plt\n",
    "import matplotlib\n",
    "import numpy as np\n",
    "import pandas as pd\n",
    "from scipy import optimize\n",
    "import pyiast\n",
    "\n",
    "matplotlib.rc('font', size=16)"
   ]
  },
  {
   "cell_type": "code",
   "execution_count": 119,
   "metadata": {},
   "outputs": [],
   "source": [
    "gases = [\"CO2\", \"SO2\"]\n",
    "mofs = [\"NOTT-300\"]"
   ]
  },
  {
   "cell_type": "markdown",
   "metadata": {},
   "source": [
    "NOTT-300 adsorption data [source](https://www.nature.com/articles/nchem.1457)"
   ]
  },
  {
   "cell_type": "code",
   "execution_count": 120,
   "metadata": {},
   "outputs": [],
   "source": [
    "df = dict()\n",
    "isotherms = dict()\n",
    "for mof in mofs:\n",
    "    df[mof] = dict()\n",
    "    isotherms[mof] = dict()\n",
    "    for gas in gases:\n",
    "        df[mof][gas] = pd.read_csv(\"data/\" + mof + \"-\" + gas + \"_293.csv\")\n",
    "        isotherms[mof][gas] = pyiast.ModelIsotherm(df[mof][gas], loading_key=\"L(mmol/g)\", \n",
    "                                                   pressure_key=\"P(bar)\", model=\"Langmuir\")\n",
    "\n",
    "# for gas in gases:\n",
    "#     df[gas] = df[gas][df[gas][\"P(bar)\"] < 0.1]\n",
    "    \n",
    "\n",
    "colors = {\"CO2\": \"C0\",\n",
    "          \"SO2\": \"C1\"}\n",
    "# isotherms[\"CO2\"].params"
   ]
  },
  {
   "cell_type": "code",
   "execution_count": 121,
   "metadata": {
    "scrolled": true
   },
   "outputs": [
    {
     "data": {
      "image/png": "[encoded data removed]",
      "text/plain": [
       "<Figure size 432x288 with 1 Axes>"
      ]
     },
     "metadata": {
      "needs_background": "light"
     },
     "output_type": "display_data"
    }
   ],
   "source": [
    "for mof in mofs:\n",
    "    plt.figure()\n",
    "    plt.xlabel(\"pressure [bar]\")\n",
    "    plt.ylabel(\"adsorption [mmol/g]\")\n",
    "    p = np.linspace(0, 1.0, num=150)\n",
    "    for gas in [\"CO2\", \"SO2\"]:\n",
    "        plt.scatter(df[mof][gas][\"P(bar)\"], df[mof][gas][\"L(mmol/g)\"])\n",
    "        plt.plot(p, isotherms[mof][gas].loading(p), color=colors[gas])\n",
    "    plt.grid(\"on\")\n",
    "    plt.title(mof)"
   ]
  },
  {
   "cell_type": "code",
   "execution_count": 122,
   "metadata": {},
   "outputs": [
    {
     "name": "stdout",
     "output_type": "stream",
     "text": [
      "2 components.\n",
      "\tPartial pressure component 0 = 0.100000\n",
      "\tPartial pressure component 1 = 0.100000\n",
      "Component  0\n",
      "\tp =  0.1\n",
      "\tp^0 =  5.479056095248174\n",
      "\tLoading:  0.1310093831960643\n",
      "\tx =  0.018251318888070356\n",
      "\tSpreading pressure =  20.586500046548633\n",
      "Component  1\n",
      "\tp =  0.1\n",
      "\tp^0 =  0.1018590622263326\n",
      "\tLoading:  7.047068212154934\n",
      "\tx =  0.9817486811119296\n",
      "\tSpreading pressure =  20.586500046548633\n",
      "WARNING:\n",
      "                      Component 0: p^0 = 5.479056 > 0.998058, the highest pressure\n",
      "                      exhibited in the pure-component isotherm data. Thus,\n",
      "                      pyIAST had to extrapolate the isotherm data to achieve\n",
      "                      this IAST result.\n"
     ]
    }
   ],
   "source": [
    "mof = \"NOTT-300\"\n",
    "q = pyiast.iast([0.1, 0.1], [isotherms[mof][\"CO2\"], isotherms[mof][\"SO2\"]], verboseflag=True)"
   ]
  }
 ],
 "metadata": {
  "kernelspec": {
   "display_name": "Python 3",
   "language": "python",
   "name": "python3"
  },
  "language_info": {
   "codemirror_mode": {
    "name": "ipython",
    "version": 3
   },
   "file_extension": ".py",
   "mimetype": "text/x-python",
   "name": "python",
   "nbconvert_exporter": "python",
   "pygments_lexer": "ipython3",
   "version": "3.6.8"
  }
 },
 "nbformat": 4,
 "nbformat_minor": 2
}
