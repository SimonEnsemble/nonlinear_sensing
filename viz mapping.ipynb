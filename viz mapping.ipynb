{
 "cells": [
  {
   "cell_type": "code",
   "execution_count": 1,
   "metadata": {},
   "outputs": [
    {
     "name": "stderr",
     "output_type": "stream",
     "text": [
      "In /home/cokes/.local/lib/python3.6/site-packages/matplotlib/mpl-data/stylelib/_classic_test.mplstyle: \n",
      "The text.latex.preview rcparam was deprecated in Matplotlib 3.3 and will be removed two minor releases later.\n",
      "In /home/cokes/.local/lib/python3.6/site-packages/matplotlib/mpl-data/stylelib/_classic_test.mplstyle: \n",
      "The mathtext.fallback_to_cm rcparam was deprecated in Matplotlib 3.3 and will be removed two minor releases later.\n",
      "In /home/cokes/.local/lib/python3.6/site-packages/matplotlib/mpl-data/stylelib/_classic_test.mplstyle: Support for setting the 'mathtext.fallback_to_cm' rcParam is deprecated since 3.3 and will be removed two minor releases later; use 'mathtext.fallback : 'cm' instead.\n",
      "In /home/cokes/.local/lib/python3.6/site-packages/matplotlib/mpl-data/stylelib/_classic_test.mplstyle: \n",
      "The validate_bool_maybe_none function was deprecated in Matplotlib 3.3 and will be removed two minor releases later.\n",
      "In /home/cokes/.local/lib/python3.6/site-packages/matplotlib/mpl-data/stylelib/_classic_test.mplstyle: \n",
      "The savefig.jpeg_quality rcparam was deprecated in Matplotlib 3.3 and will be removed two minor releases later.\n",
      "In /home/cokes/.local/lib/python3.6/site-packages/matplotlib/mpl-data/stylelib/_classic_test.mplstyle: \n",
      "The keymap.all_axes rcparam was deprecated in Matplotlib 3.3 and will be removed two minor releases later.\n",
      "In /home/cokes/.local/lib/python3.6/site-packages/matplotlib/mpl-data/stylelib/_classic_test.mplstyle: \n",
      "The animation.avconv_path rcparam was deprecated in Matplotlib 3.3 and will be removed two minor releases later.\n",
      "In /home/cokes/.local/lib/python3.6/site-packages/matplotlib/mpl-data/stylelib/_classic_test.mplstyle: \n",
      "The animation.avconv_args rcparam was deprecated in Matplotlib 3.3 and will be removed two minor releases later.\n"
     ]
    },
    {
     "name": "stdout",
     "output_type": "stream",
     "text": [
      "WARNING: you are turning off warnings!\n"
     ]
    }
   ],
   "source": [
    "import matplotlib.pyplot as plt\n",
    "import pandas as pd\n",
    "import matplotlib \n",
    "import numpy as np\n",
    "from scipy import optimize\n",
    "from mpl_toolkits.mplot3d import Axes3D\n",
    "import pyiast\n",
    "plt.matplotlib.font_manager.fontManager.addfont(\"one_d_sensing/OpenSans-Regular.ttf\")\n",
    "plt.style.use(\"one_d_sensing/grandbudapest.mplstyle\")\n",
    "from matplotlib.offsetbox import TextArea, DrawingArea, OffsetImage, AnnotationBbox\n",
    "import matplotlib.image as mpimg\n",
    "import os\n",
    "from sklearn import neighbors\n",
    "\n",
    "import warnings\n",
    "warnings.filterwarnings(\"ignore\")\n",
    "print(\"WARNING: you are turning off warnings!\")"
   ]
  },
  {
   "cell_type": "markdown",
   "metadata": {},
   "source": [
    "# load in adsorption data\n",
    "CO$_2$ and CH$_4$ adsorption in HKUST-1 and MOF-5 at 25 C\n",
    "\n",
    "(source in .csv files)\n"
   ]
  },
  {
   "cell_type": "code",
   "execution_count": 2,
   "metadata": {},
   "outputs": [
    {
     "data": {
      "text/html": [
       "<div>\n",
       "<style scoped>\n",
       "    .dataframe tbody tr th:only-of-type {\n",
       "        vertical-align: middle;\n",
       "    }\n",
       "\n",
       "    .dataframe tbody tr th {\n",
       "        vertical-align: top;\n",
       "    }\n",
       "\n",
       "    .dataframe thead th {\n",
       "        text-align: right;\n",
       "    }\n",
       "</style>\n",
       "<table border=\"1\" class=\"dataframe\">\n",
       "  <thead>\n",
       "    <tr style=\"text-align: right;\">\n",
       "      <th></th>\n",
       "      <th>P(bar)</th>\n",
       "      <th>N(mmol/g)</th>\n",
       "      <th>N(g/g)</th>\n",
       "    </tr>\n",
       "  </thead>\n",
       "  <tbody>\n",
       "    <tr>\n",
       "      <th>0</th>\n",
       "      <td>0.0</td>\n",
       "      <td>0.0</td>\n",
       "      <td>0.000000</td>\n",
       "    </tr>\n",
       "    <tr>\n",
       "      <th>1</th>\n",
       "      <td>1.2</td>\n",
       "      <td>1.1</td>\n",
       "      <td>0.048411</td>\n",
       "    </tr>\n",
       "    <tr>\n",
       "      <th>2</th>\n",
       "      <td>2.1</td>\n",
       "      <td>1.8</td>\n",
       "      <td>0.079218</td>\n",
       "    </tr>\n",
       "    <tr>\n",
       "      <th>3</th>\n",
       "      <td>3.2</td>\n",
       "      <td>2.8</td>\n",
       "      <td>0.123228</td>\n",
       "    </tr>\n",
       "    <tr>\n",
       "      <th>4</th>\n",
       "      <td>4.1</td>\n",
       "      <td>3.7</td>\n",
       "      <td>0.162837</td>\n",
       "    </tr>\n",
       "    <tr>\n",
       "      <th>5</th>\n",
       "      <td>5.3</td>\n",
       "      <td>4.9</td>\n",
       "      <td>0.215649</td>\n",
       "    </tr>\n",
       "    <tr>\n",
       "      <th>6</th>\n",
       "      <td>6.3</td>\n",
       "      <td>6.1</td>\n",
       "      <td>0.268461</td>\n",
       "    </tr>\n",
       "    <tr>\n",
       "      <th>7</th>\n",
       "      <td>7.2</td>\n",
       "      <td>7.1</td>\n",
       "      <td>0.312471</td>\n",
       "    </tr>\n",
       "    <tr>\n",
       "      <th>8</th>\n",
       "      <td>8.2</td>\n",
       "      <td>8.4</td>\n",
       "      <td>0.369684</td>\n",
       "    </tr>\n",
       "    <tr>\n",
       "      <th>9</th>\n",
       "      <td>9.4</td>\n",
       "      <td>10.1</td>\n",
       "      <td>0.444501</td>\n",
       "    </tr>\n",
       "    <tr>\n",
       "      <th>10</th>\n",
       "      <td>10.4</td>\n",
       "      <td>11.5</td>\n",
       "      <td>0.506115</td>\n",
       "    </tr>\n",
       "    <tr>\n",
       "      <th>11</th>\n",
       "      <td>11.5</td>\n",
       "      <td>13.0</td>\n",
       "      <td>0.572130</td>\n",
       "    </tr>\n",
       "    <tr>\n",
       "      <th>12</th>\n",
       "      <td>12.3</td>\n",
       "      <td>14.0</td>\n",
       "      <td>0.616140</td>\n",
       "    </tr>\n",
       "    <tr>\n",
       "      <th>13</th>\n",
       "      <td>13.4</td>\n",
       "      <td>15.2</td>\n",
       "      <td>0.668952</td>\n",
       "    </tr>\n",
       "    <tr>\n",
       "      <th>14</th>\n",
       "      <td>14.4</td>\n",
       "      <td>16.1</td>\n",
       "      <td>0.708561</td>\n",
       "    </tr>\n",
       "    <tr>\n",
       "      <th>15</th>\n",
       "      <td>15.5</td>\n",
       "      <td>16.9</td>\n",
       "      <td>0.743769</td>\n",
       "    </tr>\n",
       "    <tr>\n",
       "      <th>16</th>\n",
       "      <td>16.6</td>\n",
       "      <td>17.6</td>\n",
       "      <td>0.774576</td>\n",
       "    </tr>\n",
       "    <tr>\n",
       "      <th>17</th>\n",
       "      <td>17.6</td>\n",
       "      <td>18.1</td>\n",
       "      <td>0.796581</td>\n",
       "    </tr>\n",
       "    <tr>\n",
       "      <th>18</th>\n",
       "      <td>18.6</td>\n",
       "      <td>18.6</td>\n",
       "      <td>0.818586</td>\n",
       "    </tr>\n",
       "    <tr>\n",
       "      <th>19</th>\n",
       "      <td>19.7</td>\n",
       "      <td>19.0</td>\n",
       "      <td>0.836190</td>\n",
       "    </tr>\n",
       "    <tr>\n",
       "      <th>20</th>\n",
       "      <td>20.6</td>\n",
       "      <td>19.4</td>\n",
       "      <td>0.853794</td>\n",
       "    </tr>\n",
       "    <tr>\n",
       "      <th>21</th>\n",
       "      <td>21.6</td>\n",
       "      <td>19.6</td>\n",
       "      <td>0.862596</td>\n",
       "    </tr>\n",
       "    <tr>\n",
       "      <th>22</th>\n",
       "      <td>23.9</td>\n",
       "      <td>20.3</td>\n",
       "      <td>0.893403</td>\n",
       "    </tr>\n",
       "    <tr>\n",
       "      <th>23</th>\n",
       "      <td>25.7</td>\n",
       "      <td>20.6</td>\n",
       "      <td>0.906606</td>\n",
       "    </tr>\n",
       "    <tr>\n",
       "      <th>24</th>\n",
       "      <td>27.9</td>\n",
       "      <td>21.0</td>\n",
       "      <td>0.924210</td>\n",
       "    </tr>\n",
       "    <tr>\n",
       "      <th>25</th>\n",
       "      <td>30.1</td>\n",
       "      <td>21.3</td>\n",
       "      <td>0.937413</td>\n",
       "    </tr>\n",
       "    <tr>\n",
       "      <th>26</th>\n",
       "      <td>32.0</td>\n",
       "      <td>21.5</td>\n",
       "      <td>0.946215</td>\n",
       "    </tr>\n",
       "    <tr>\n",
       "      <th>27</th>\n",
       "      <td>34.1</td>\n",
       "      <td>21.7</td>\n",
       "      <td>0.955017</td>\n",
       "    </tr>\n",
       "    <tr>\n",
       "      <th>28</th>\n",
       "      <td>36.2</td>\n",
       "      <td>21.8</td>\n",
       "      <td>0.959418</td>\n",
       "    </tr>\n",
       "    <tr>\n",
       "      <th>29</th>\n",
       "      <td>38.2</td>\n",
       "      <td>21.9</td>\n",
       "      <td>0.963819</td>\n",
       "    </tr>\n",
       "    <tr>\n",
       "      <th>30</th>\n",
       "      <td>40.3</td>\n",
       "      <td>22.0</td>\n",
       "      <td>0.968220</td>\n",
       "    </tr>\n",
       "    <tr>\n",
       "      <th>31</th>\n",
       "      <td>42.2</td>\n",
       "      <td>22.0</td>\n",
       "      <td>0.968220</td>\n",
       "    </tr>\n",
       "  </tbody>\n",
       "</table>\n",
       "</div>"
      ],
      "text/plain": [
       "    P(bar)  N(mmol/g)    N(g/g)\n",
       "0      0.0        0.0  0.000000\n",
       "1      1.2        1.1  0.048411\n",
       "2      2.1        1.8  0.079218\n",
       "3      3.2        2.8  0.123228\n",
       "4      4.1        3.7  0.162837\n",
       "5      5.3        4.9  0.215649\n",
       "6      6.3        6.1  0.268461\n",
       "7      7.2        7.1  0.312471\n",
       "8      8.2        8.4  0.369684\n",
       "9      9.4       10.1  0.444501\n",
       "10    10.4       11.5  0.506115\n",
       "11    11.5       13.0  0.572130\n",
       "12    12.3       14.0  0.616140\n",
       "13    13.4       15.2  0.668952\n",
       "14    14.4       16.1  0.708561\n",
       "15    15.5       16.9  0.743769\n",
       "16    16.6       17.6  0.774576\n",
       "17    17.6       18.1  0.796581\n",
       "18    18.6       18.6  0.818586\n",
       "19    19.7       19.0  0.836190\n",
       "20    20.6       19.4  0.853794\n",
       "21    21.6       19.6  0.862596\n",
       "22    23.9       20.3  0.893403\n",
       "23    25.7       20.6  0.906606\n",
       "24    27.9       21.0  0.924210\n",
       "25    30.1       21.3  0.937413\n",
       "26    32.0       21.5  0.946215\n",
       "27    34.1       21.7  0.955017\n",
       "28    36.2       21.8  0.959418\n",
       "29    38.2       21.9  0.963819\n",
       "30    40.3       22.0  0.968220\n",
       "31    42.2       22.0  0.968220"
      ]
     },
     "execution_count": 2,
     "metadata": {},
     "output_type": "execute_result"
    }
   ],
   "source": [
    "mofs = [\"HKUST-1\", \"IRMOF-1\"]\n",
    "gases = [\"co2\", \"ch4\"]\n",
    "molecular_weight = {\"ch4\":16.04, \"co2\":44.01}\n",
    "df = dict()\n",
    "for mof in mofs:\n",
    "    df[mof] = dict()\n",
    "    for gas in gases:\n",
    "        df[mof][gas] = pd.read_csv(os.path.join(\"adsorption_data\", gas + \"_\" + mof + \"_25C.csv\"), skiprows = 1)\n",
    "        if gas == \"ch4\":\n",
    "            df[mof][gas][\"N(mmol/g)\"] = df[mof][gas][\"N(cm3/g)\"] / 22.4\n",
    "        df[mof][gas][\"N(g/g)\"] = df[mof][gas][\"N(mmol/g)\"] * molecular_weight[gas] / 1000 \n",
    "\n",
    "df[\"IRMOF-1\"][\"co2\"]"
   ]
  },
  {
   "cell_type": "markdown",
   "metadata": {},
   "source": [
    "# Construct Adsorption Models\n",
    "this is for `pyiast`\n",
    "\n",
    "use interpolator isotherm for CO$_2$ in MOF-5 b/c of the inflection for which we do not have an analytical model.\n",
    "\n",
    "note the IAST should be done on a mole basis."
   ]
  },
  {
   "cell_type": "code",
   "execution_count": 3,
   "metadata": {},
   "outputs": [],
   "source": [
    "gas_to_label = {\"co2\": \"CO$_2$\", \"ch4\": \"CH$_4$\"} # for latex\n",
    "p_max_in_plot = {\"co2\": 50.0, \"ch4\": 100.0}\n",
    "mof_to_color = {\"IRMOF-1\": \"C0\", \"HKUST-1\": \"C3\"}\n",
    "gas_to_marker = {\"co2\": \"s\", \"ch4\": \"o\"}"
   ]
  },
  {
   "cell_type": "code",
   "execution_count": 4,
   "metadata": {},
   "outputs": [],
   "source": [
    "ads_model = dict()\n",
    "for mof in mofs:\n",
    "    ads_model[mof] = dict()\n",
    "    for gas in gases:\n",
    "        if gas == \"co2\" and mof == \"IRMOF-1\":\n",
    "            ads_model[mof][gas] = pyiast.InterpolatorIsotherm(df[mof][gas],\n",
    "                                                              pressure_key=\"P(bar)\",\n",
    "                                                              loading_key=\"N(mmol/g)\", \n",
    "                                                              fill_value=df[mof][gas][\"N(mmol/g)\"].max()) \n",
    "        else:\n",
    "            ads_model[mof][gas] = pyiast.ModelIsotherm(df[mof][gas],\n",
    "                                                       pressure_key=\"P(bar)\",\n",
    "                                                       loading_key=\"N(mmol/g)\",\n",
    "                                                       model=\"Langmuir\")\n",
    "      "
   ]
  },
  {
   "cell_type": "code",
   "execution_count": 5,
   "metadata": {},
   "outputs": [
    {
     "data": {
      "image/png": "[encoded data removed]",
      "text/plain": [
       "<Figure size 345.6x259.2 with 1 Axes>"
      ]
     },
     "metadata": {},
     "output_type": "display_data"
    },
    {
     "data": {
      "image/png": "[encoded data removed]",
      "text/plain": [
       "<Figure size 345.6x259.2 with 1 Axes>"
      ]
     },
     "metadata": {},
     "output_type": "display_data"
    }
   ],
   "source": [
    "def draw_axes():\n",
    "    plt.axvline(x=0, color=\"0.6\", zorder=1)\n",
    "    plt.axhline(y=0, color=\"0.6\", zorder=1)\n",
    "\n",
    "p_max = {\"ch4\": 101.0, \"co2\": 43.1}\n",
    "\n",
    "for gas in gases:\n",
    "    p = np.linspace(0.0, p_max[gas], 100)\n",
    "    plt.figure(figsize=[6.4* 0.75, 4.8* 0.75])\n",
    "    for mof in mofs:\n",
    "        plt.scatter(df[mof][gas][\"P(bar)\"], df[mof][gas][\"N(g/g)\"], color=mof_to_color[mof], \n",
    "                    zorder=100, marker=gas_to_marker[gas], label=mof)\n",
    "#         plt.plot(p, ads_model[mof][gas].loading(p) * molecular_weight[gas] / 1000, label=mof, color=mof_to_color[mof], zorder=100)\n",
    "    draw_axes()\n",
    "    plt.legend()\n",
    "    plt.xlabel(\"pressure [bar]\")\n",
    "    plt.ylabel(gas_to_label[gas] + \" uptake [g/g]\")\n",
    "    plt.tight_layout()\n",
    "    plt.xlim(xmax=p_max[gas])\n",
    "    plt.savefig(gas + \"_adsorption_data.pdf\", format=\"pdf\") # in  mapping nb"
   ]
  },
  {
   "cell_type": "code",
   "execution_count": 6,
   "metadata": {},
   "outputs": [
    {
     "data": {
      "text/plain": [
       "{'M': 11.258065277579124, 'K': 0.57196295270447}"
      ]
     },
     "execution_count": 6,
     "metadata": {},
     "output_type": "execute_result"
    }
   ],
   "source": [
    "ads_model[\"HKUST-1\"][\"co2\"].params # e.g. get params"
   ]
  },
  {
   "cell_type": "code",
   "execution_count": 7,
   "metadata": {},
   "outputs": [
    {
     "data": {
      "text/plain": [
       "1.1556423315374746"
      ]
     },
     "execution_count": 7,
     "metadata": {},
     "output_type": "execute_result"
    }
   ],
   "source": [
    "ads_model[\"HKUST-1\"][\"co2\"].loading(0.2) # e.g. compute loading at 0.2 bar"
   ]
  },
  {
   "cell_type": "markdown",
   "metadata": {},
   "source": [
    "# Adsorption model $\\mathbf{m}=f(\\mathbf{p})$"
   ]
  },
  {
   "cell_type": "code",
   "execution_count": 62,
   "metadata": {},
   "outputs": [],
   "source": [
    "\"\"\"\n",
    "    m = f(p)\n",
    "\n",
    "return adsorbed mass in the MOFs as a function of pressure.\n",
    "\n",
    "both m and p are arrays here.\n",
    "\n",
    "note: we apply iast to the mmol/g adsorption values, then convert to g/g\n",
    "\n",
    "m[i]: total mass adsorbed in MOF i\n",
    "p[i]: partial pressure of gas i\n",
    "\"\"\"\n",
    "def f(p):\n",
    "    if np.any(p < 0.0):\n",
    "        # tell optim algo this is the wrong direction!\n",
    "        return np.array([-1.0 * np.linalg.norm(p), -1.0 * np.linalg.norm(p)])\n",
    "    m = np.zeros(2)\n",
    "    for i, mof in enumerate(mofs):\n",
    "        # if gas is pure gas 1\n",
    "        if p[0] < 1e-5:\n",
    "            m[i] = ads_model[mof][gases[1]].loading(p[1]) * molecular_weight[gases[1]] / 1000\n",
    "            continue\n",
    "        #  if gas is pure gas 0\n",
    "        if p[1] < 1e-5:\n",
    "            m[i] = ads_model[mof][gases[0]].loading(p[0]) * molecular_weight[gases[0]] / 1000\n",
    "            continue\n",
    "        # if reached this far, need IAST\n",
    "        # first, a reasonable guess for adsorbed_mole_fraction_guess\n",
    "        #  based on pure-component loadings\n",
    "        m_guess = np.zeros(2)\n",
    "        for g, gas in enumerate(gases):\n",
    "            m_guess[g] = ads_model[mof][gas].loading(p[g])\n",
    "        m_guess = m_guess / np.sum(m_guess)\n",
    "        # component loadings in mof i.\n",
    "        #  note that these are in mmol. so we need to use molecular weight to convert to g.\n",
    "        q = pyiast.iast(p, [ads_model[mof][gas] for gas in gases],\n",
    "                        verboseflag=False, adsorbed_mole_fraction_guess=m_guess, warningoff=True)\n",
    "        for g, gas in enumerate(gases):\n",
    "            m[i] += q[g] * molecular_weight[gas] / 1000\n",
    "    return m # g/g\n",
    "# turn warningoff=False to see if there are warnings."
   ]
  },
  {
   "cell_type": "code",
   "execution_count": 63,
   "metadata": {},
   "outputs": [
    {
     "data": {
      "text/plain": [
       "False"
      ]
     },
     "execution_count": 63,
     "metadata": {},
     "output_type": "execute_result"
    }
   ],
   "source": [
    "p = np.array([-0.3, 0.5])\n",
    "np.all(p <0)"
   ]
  },
  {
   "cell_type": "code",
   "execution_count": 64,
   "metadata": {},
   "outputs": [
    {
     "data": {
      "text/plain": [
       "array([0.35548953, 0.23237338])"
      ]
     },
     "execution_count": 64,
     "metadata": {},
     "output_type": "execute_result"
    }
   ],
   "source": [
    "p = np.array([5.0, 4.0])\n",
    "m = f(p)\n",
    "m"
   ]
  },
  {
   "cell_type": "markdown",
   "metadata": {},
   "source": [
    "# Inverse of adsorption model $\\mathbf{p}=g(\\mathbf{m})$"
   ]
  },
  {
   "cell_type": "markdown",
   "metadata": {},
   "source": [
    "## k-NN algo for good guess\n",
    "forward function `f` is robust.\n",
    "\n",
    "inverse function `g` is not... i.e. will not converge if the starting guess is not very close to the true solution.\n",
    "so let's use nearest neighbors to get a good guess for the inverse function."
   ]
  },
  {
   "cell_type": "code",
   "execution_count": 67,
   "metadata": {},
   "outputs": [],
   "source": [
    "ps = np.concatenate((np.linspace(0, 3.0, 50), np.linspace(3.0, 30.0, 100)))\n",
    "knn = neighbors.KNeighborsRegressor(1)\n",
    "P = []\n",
    "M = []\n",
    "for i in range(len(ps)):\n",
    "    for j in range(len(ps)):\n",
    "        p = np.array([ps[i], ps[j]])\n",
    "        P.append(p)\n",
    "        M.append(f(p))\n",
    "knn_model = knn.fit(M, P) # the inverse problem\n",
    "\n",
    "def g_knn(m):\n",
    "    return knn_model.predict([m])[0]"
   ]
  },
  {
   "cell_type": "code",
   "execution_count": 68,
   "metadata": {},
   "outputs": [],
   "source": [
    "def distance_to_nearest_neighbor(m):\n",
    "    return knn_model.kneighbors([m])[0][0][0]"
   ]
  },
  {
   "cell_type": "code",
   "execution_count": 69,
   "metadata": {},
   "outputs": [
    {
     "data": {
      "text/plain": [
       "array([21.81818182,  0.24489796])"
      ]
     },
     "execution_count": 69,
     "metadata": {},
     "output_type": "execute_result"
    }
   ],
   "source": [
    "g_knn(m)"
   ]
  },
  {
   "cell_type": "code",
   "execution_count": 83,
   "metadata": {},
   "outputs": [],
   "source": [
    "\"\"\"\n",
    "    p = g(m)\n",
    "\n",
    "inverse of f(p). i.e. given m, return p that produces it.\n",
    "if not a successful root finding, return Nans\n",
    "\"\"\"\n",
    "def g(m): \n",
    "    #  we want this function to return a zero vector\n",
    "    #  it takes in a pressure p\n",
    "    #  it outputs the corresponding difference between the response and the response m_0 that we find\n",
    "    #  if we find the right p that gives us the response m_0, then this will be the zero vector\n",
    "    def f_want_0(p):\n",
    "        return f(p) - m\n",
    "    p_guess = g_knn(m)\n",
    "    sol = optimize.root(f_want_0, p_guess, method=\"lm\")\n",
    "    p = sol.x\n",
    "    # return nan if p less than lower bound, greater than upper bound\n",
    "#     if p[0] < p_lb or p[1] < p_lb or p[0] > p_ub or p[1] > p_ub:\n",
    "#         return np.array([np.nan, np.nan])\n",
    "    if not sol.success:\n",
    "        return np.array([np.nan, np.nan])\n",
    "    return p\n",
    "print(\"warning! changed method to lm\")"
   ]
  },
  {
   "cell_type": "code",
   "execution_count": 84,
   "metadata": {},
   "outputs": [
    {
     "data": {
      "text/plain": [
       "array([25.        , 24.65397878])"
      ]
     },
     "execution_count": 84,
     "metadata": {},
     "output_type": "execute_result"
    }
   ],
   "source": [
    "g(m)"
   ]
  },
  {
   "cell_type": "markdown",
   "metadata": {},
   "source": [
    "# Bivariate Color Map"
   ]
  },
  {
   "cell_type": "code",
   "execution_count": 85,
   "metadata": {},
   "outputs": [],
   "source": [
    "def colorFromBivariateData(x, y):\n",
    "    if np.any(x > 1) or np.any(y > 1):\n",
    "        raise Exception(\"Numbers must be between 0 and 1.\")\n",
    "    if np.any(np.isnan(x)) or np.any(np.isnan(y)):\n",
    "        return np.array([1, 1, 1, 1])\n",
    "    return (x, y, 1-(x+y)/2, 1.0)"
   ]
  },
  {
   "cell_type": "code",
   "execution_count": 86,
   "metadata": {},
   "outputs": [
    {
     "data": {
      "text/plain": [
       "<matplotlib.image.AxesImage at 0x7fd085586748>"
      ]
     },
     "execution_count": 86,
     "metadata": {},
     "output_type": "execute_result"
    },
    {
     "data": {
      "image/png": "[encoded data removed]",
      "text/plain": [
       "<Figure size 432x288 with 1 Axes>"
      ]
     },
     "metadata": {},
     "output_type": "display_data"
    }
   ],
   "source": [
    "# Example of colorFromBivariateData function\n",
    "x = np.linspace(0, 1)\n",
    "y = np.linspace(0, 1)\n",
    "z = [[colorFromBivariateData(x[i], y[j]) for i in range(np.size(x))] for j in range(np.size(y))]\n",
    "extent = (0, 1, 0, 1) #figure out how to put our desired x/y lims on this\n",
    "plt.imshow(z, extent=extent, origin='lower')"
   ]
  },
  {
   "cell_type": "markdown",
   "metadata": {},
   "source": [
    "functions to draw grid lines"
   ]
  },
  {
   "cell_type": "code",
   "execution_count": 87,
   "metadata": {},
   "outputs": [],
   "source": [
    "grid_line_color = \"k\""
   ]
  },
  {
   "cell_type": "markdown",
   "metadata": {},
   "source": [
    "# Function to draw boundary on response space"
   ]
  },
  {
   "cell_type": "code",
   "execution_count": 88,
   "metadata": {},
   "outputs": [],
   "source": [
    "# Function to draw boundary around response space figure\n",
    "kwargs = {\"color\": grid_line_color, \"lw\": 4, \"clip_on\": False, \"zorder\": 100}\n",
    "def draw_mspace_boundaries(p_max, plt_num):\n",
    "    x = np.linspace(0, p_max, 100)\n",
    "    m1 = np.zeros(len(x))\n",
    "    m2 = np.zeros(len(x))\n",
    "    for i in range(len(x)):\n",
    "        # make pa = 0\n",
    "        p = np.array([0, x[i]])\n",
    "        m1[i], m2[i] = f(p) \n",
    "    ax[plt_num].plot(m1, m2, **kwargs)\n",
    "    for i in range(len(x)):        \n",
    "        # make pb = 0\n",
    "        p = np.array([x[i], 0])\n",
    "        m1[i], m2[i] = f(p) \n",
    "    ax[plt_num].plot(m1, m2, **kwargs)\n",
    "    for i in range(len(x)):        \n",
    "        # make pa = max\n",
    "        p = np.array([p_max, x[i]])\n",
    "        m1[i], m2[i] = f(p) \n",
    "    ax[plt_num].plot(m1, m2, **kwargs)\n",
    "    for i in range(len(x)):        \n",
    "        # make pb = max\n",
    "        p = np.array([x[i], p_max])\n",
    "        m1[i], m2[i] = f(p) \n",
    "    ax[plt_num].plot(m1, m2, **kwargs)\n",
    "    \n",
    "def draw_box(L, plt_num):\n",
    "    ax[plt_num].hlines(0.0, 0.0, L, **kwargs)\n",
    "    ax[plt_num].hlines(L  , 0.0, L, **kwargs)\n",
    "    ax[plt_num].vlines(0.0, 0.0, L, **kwargs)\n",
    "    ax[plt_num].vlines(L  , 0.0, L, **kwargs)"
   ]
  },
  {
   "cell_type": "code",
   "execution_count": 89,
   "metadata": {},
   "outputs": [],
   "source": [
    "# def f_test(x, y):\n",
    "#     return x\n",
    "\n",
    "# x = np.linspace(0, 2.0, 5)\n",
    "# y = np.linspace(0.0, 10.0, 100)\n",
    "# z = [[plt.cm.Greens(f_test(x_i, y_i)) for x_i in x] for y_i in y]\n",
    "# plt.figure()\n",
    "# extent = (0, 2.0, 0, 10.0)\n",
    "# plt.imshow(z, extent=extent, origin='lower')"
   ]
  },
  {
   "cell_type": "markdown",
   "metadata": {},
   "source": [
    "# composition $\\rightarrow$ response space mapping by $f(\\mathbf{p})$.\n",
    "(forward problem) $f : \\mathbf{p} \\mapsto \\mathbf{m}$"
   ]
  },
  {
   "cell_type": "code",
   "execution_count": 90,
   "metadata": {},
   "outputs": [
    {
     "name": "stdout",
     "output_type": "stream",
     "text": [
      "doing kNN inverse, not the real inverse!\n"
     ]
    },
    {
     "data": {
      "image/png": "[encoded data removed]",
      "text/plain": [
       "<Figure size 1080x504 with 2 Axes>"
      ]
     },
     "metadata": {},
     "output_type": "display_data"
    }
   ],
   "source": [
    "p_max = 25.0\n",
    "draw_color = True\n",
    "\n",
    "fig, ax = plt.subplots(1, 2, figsize=(15, 7))\n",
    "\n",
    "# turn off grid.\n",
    "for k in range(2):\n",
    "    ax[k].grid(False)\n",
    "    \n",
    "###\n",
    "#   composition space. color is uniform here.\n",
    "###\n",
    "ax[0].set_title(\"gas composition space, $\\mathcal{P}$\")\n",
    "ax[0].set_xlabel(\"$p$, \" + gas_to_label[gases[0]] + \" [bar]\")\n",
    "ax[0].set_ylabel(\"$p$, \" + gas_to_label[gases[1]] + \" [bar]\")\n",
    "\n",
    "p = np.linspace(0, p_max, 100)\n",
    "if draw_color:\n",
    "    z = [[colorFromBivariateData(p_x / p_max, p_y / p_max) for p_x in p] for p_y in p]\n",
    "    ax[0].imshow(z, extent=(0, p_max, 0, p_max), origin='lower')     \n",
    "ax[0].set_aspect('equal', 'box')\n",
    "draw_box(p_max, 0)\n",
    "\n",
    "###\n",
    "#   sensor response space\n",
    "###\n",
    "ax[1].set_title(\"sensor response space, $\\mathcal{M}$\")\n",
    "ax[1].set_xlabel(\"$m$, \" + mofs[0] + \" [g/g]\")\n",
    "ax[1].set_ylabel(\"$m$, \" + mofs[1] + \" [g/g]\")\n",
    "\n",
    "# see how big we need to go in m.\n",
    "#    look at corners\n",
    "m_corners = [f(np.array([p_max, 0.0])), f(np.array([p_max, p_max])), f(np.array([0.0, p_max]))]\n",
    "m0_max = np.max([m_corner[0] for m_corner in m_corners])\n",
    "m1_max = np.max([m_corner[1] for m_corner in m_corners])\n",
    "\n",
    "num_grid_pts = 150\n",
    "m0_grid = np.linspace(0, m0_max, num_grid_pts)\n",
    "m1_grid = np.linspace(0, m1_max, num_grid_pts)\n",
    "if draw_color:\n",
    "    z = [[colorFromBivariateData(np.nan, np.nan) for i in range(num_grid_pts)] for j in range(num_grid_pts)]\n",
    "\n",
    "    da_real_thing = True\n",
    "    if not da_real_thing:\n",
    "        print(\"doing kNN inverse, not the real inverse!\")\n",
    "    for i in range(num_grid_pts):\n",
    "        for j in range(num_grid_pts):\n",
    "            m = np.array([m0_grid[i], m1_grid[j]])\n",
    "            # use k-NN approx to the inverse to rule out points safely far from boundary\n",
    "            if distance_to_nearest_neighbor(m) > 0.05:\n",
    "                continue\n",
    "    #         if np.any(p > 1.5 * p_max) or np.any(p < 0.0):\n",
    "    #             continue\n",
    "            # now do the real inverse\n",
    "            if da_real_thing:\n",
    "                p = g(m)\n",
    "            else:\n",
    "                p = g_knn(m)\n",
    "            if np.any(np.isnan(p)):\n",
    "                continue\n",
    "            if np.all(p < p_max):\n",
    "                z[j][i] = colorFromBivariateData(p[0] / p_max, p[1] / p_max)\n",
    "\n",
    "    ax[1].imshow(z, extent=(0, m0_max, 0, m1_max),  origin='lower') \n",
    "ax[1].set_aspect('equal', 'box')\n",
    "\n",
    "###\n",
    "#  grid lines\n",
    "###\n",
    "if draw_color:\n",
    "    nb_lines = 6\n",
    "else:\n",
    "    nb_lines = 12\n",
    "nb_pts = 50\n",
    "ps = np.linspace(0, p_max, nb_lines)\n",
    "p_fine = np.linspace(0, p_max, nb_pts)\n",
    "for i in range(len(ps)):\n",
    "    ###\n",
    "    #   x = constant (vertical) grid lines\n",
    "    ###\n",
    "    p_a = ps[i] # p_a is constant here.\n",
    "    ax[0].vlines(p_a, 0, p_max, color=grid_line_color)\n",
    "    \n",
    "    # plot the image of the line in sensor response space\n",
    "    #     loop through points on the line\n",
    "    m0 = np.zeros(nb_pts)\n",
    "    m1 = np.zeros(nb_pts)\n",
    "    for j, p_b in enumerate(p_fine):\n",
    "        p = np.array([p_a, p_b])\n",
    "        m0[j], m1[j] = f(p)\n",
    "    ax[1].plot(m0, m1, color=grid_line_color, lw=1)\n",
    "    \n",
    "    ###\n",
    "    #   y = constant (horizontal) grid lines\n",
    "    ###\n",
    "    p_b = ps[i] # p_b is constant here.\n",
    "    ax[0].hlines(p_b, 0, p_max, color=grid_line_color)\n",
    "    \n",
    "    # plot the image of the line in sensor response space\n",
    "    # loop through points on the line\n",
    "    for j, p_a in enumerate(p_fine):\n",
    "        p = np.array([p_a, p_b])\n",
    "        m0[j], m1[j] = f(p)\n",
    "    ax[1].plot(m0, m1, color=grid_line_color, lw=1)\n",
    "# plt.suptitle(\"$f:\\mathbf{p} \\rightarrow \\mathbf{m}$\")\n",
    "draw_mspace_boundaries(p_max, 1)\n",
    "plt.tight_layout()\n",
    "plt.savefig(\"p_to_m_2d.pdf\", format=\"pdf\")"
   ]
  },
  {
   "cell_type": "markdown",
   "metadata": {},
   "source": [
    "# Mapping Response Space to Composition Space"
   ]
  },
  {
   "cell_type": "code",
   "execution_count": null,
   "metadata": {},
   "outputs": [],
   "source": [
    "draw_color = True\n",
    "draw_circles = False\n",
    "\n",
    "fig, ax = plt.subplots(1, 2, figsize=(15, 7))\n",
    "\n",
    "# turn off grid.\n",
    "for k in range(2):\n",
    "    ax[k].grid(False)\n",
    "###\n",
    "#   sensor response space\n",
    "###\n",
    "ax[0].set_title(\"sensor response space, $\\mathcal{M}$\")\n",
    "ax[0].set_xlabel(\"$m$, \" + mofs[0] + \" [g/g]\")\n",
    "ax[0].set_ylabel(\"$m$, \" + mofs[1] + \" [g/g]\")\n",
    "\n",
    "if draw_color:\n",
    "    z = [[colorFromBivariateData(m_0 / m0_max, m_1 / m1_max) for m_0 in m0_grid] for m_1 in m1_grid]\n",
    "    # white out values outside of the boundary\n",
    "    for i, m_0 in enumerate(m0_grid):\n",
    "        for j, m_1 in enumerate(m1_grid):\n",
    "            m = np.array([m_0, m_1])\n",
    "            if distance_to_nearest_neighbor(m) > 0.05:\n",
    "                z[j][i] = colorFromBivariateData(np.nan, np.nan)\n",
    "                continue\n",
    "            p = g(m)\n",
    "            if np.any(p > p_max) or np.any(np.isnan(p)):\n",
    "                z[j][i] = colorFromBivariateData(np.nan, np.nan)\n",
    "\n",
    "    ax[0].imshow(z, extent=(0, m0_max, 0, m1_max), origin='lower')     \n",
    "ax[0].set_aspect('equal', 'box')\n",
    "draw_mspace_boundaries(p_max, 0)\n",
    "\n",
    "###\n",
    "#   composition space\n",
    "###\n",
    "ax[1].set_title(\"gas composition space, $\\mathcal{P}$\")\n",
    "ax[1].set_xlabel(\"$p$, \" + gas_to_label[gases[0]] + \" [bar]\")\n",
    "ax[1].set_ylabel(\"$p$, \" + gas_to_label[gases[1]] + \" [bar]\")\n",
    "if draw_color:\n",
    "    ps = np.linspace(0, p_max, 50)\n",
    "    z = [[colorFromBivariateData(np.nan, np.nan) for p_x in ps] for p_y in ps]\n",
    "    for i, p_x in enumerate(ps):\n",
    "        for j, p_y in enumerate(ps):\n",
    "            p = np.array([p_x, p_y])\n",
    "            m = f(p)\n",
    "            z[j][i] = colorFromBivariateData(m[0] / m0_max, m[1] / m1_max)\n",
    "    ax[1].imshow(z, extent=(0, p_max, 0, p_max), origin='lower')     \n",
    "ax[1].set_aspect('equal', 'box')\n",
    "draw_box(p_max, 1)\n",
    "\n",
    "###\n",
    "#   cirlce of points\n",
    "### \n",
    "circle_colors = [\"C2\", \"C3\", \"C4\", \"C5\"]\n",
    "if draw_circles:\n",
    "    r = 0\n",
    "    for p_bar in [np.array([1, 10]), np.array([5, 15]), np.array([10, 20]), np.array([12, 17.])]:\n",
    "        m_bar = f(p_bar)\n",
    "        ax[0].scatter([m_bar[0]], [m_bar[1]], color=circle_colors[r], marker=\"X\")\n",
    "        ax[1].scatter([p_bar[0]], [p_bar[1]], color=circle_colors[r], marker=\"X\")\n",
    "\n",
    "        thetas = np.linspace(0, 2*np.pi, 30)\n",
    "        dm = 0.02\n",
    "        ms = [m_bar + dm * np.array([np.cos(theta), np.sin(theta)]) for theta in thetas]\n",
    "        ps = [g(m) for m in ms]\n",
    "        for i in range(len(thetas)-1):\n",
    "            ax[0].plot([ms[i][0], ms[i+1][0]], [ms[i][1], ms[i+1][1]], color=circle_colors[r])\n",
    "            ax[1].plot([ps[i][0], ps[i+1][0]], [ps[i][1], ps[i+1][1]], color=circle_colors[r])\n",
    "        r += 1\n",
    "###\n",
    "#  grid lines\n",
    "###\n",
    "if draw_color:\n",
    "    nb_lines = 6\n",
    "else:\n",
    "    nb_lines = 12\n",
    "nb_lines = 20\n",
    "nb_pts = 50\n",
    "ms = np.linspace(0, np.max([m0_max, m1_max]), nb_lines)\n",
    "\n",
    "###\n",
    "#   vertical lines.\n",
    "#   m_0 known. what is [m_1_start, m_1_end]?\n",
    "m_top_left = f(np.array([0.0, p_max]))\n",
    "m_top_right = f(np.array([p_max, p_max])) # def related to comp space not resp space\n",
    "# bottom of vert line: p_1 = 0. wut is p_0?\n",
    "def get_m1_start(m_0):\n",
    "    # wut pressure of gas 0 gives this m_0? look at pure-component of gas 0 in mof 0\n",
    "    def f_want_0(p_0):\n",
    "        return ads_model[mofs[0]][gases[0]].loading(p_0) * molecular_weight[gases[0]] / 1000 - m_0\n",
    "    p_0 = optimize.root_scalar(f_want_0, bracket=[0, p_max]).root # x[0]\n",
    "    # retrun m_1 at this p_0\n",
    "    return ads_model[mofs[1]][gases[0]].loading(p_0) * molecular_weight[gases[0]] / 1000\n",
    "\n",
    "# top of vert line: p_1 = p_max. wut is p_0?\n",
    "def get_m1_end(m_0):\n",
    "    if m_0 < m_top_left[0]: # p = [0.0, p_1] for some p_1\n",
    "        # wut pressure of gas 0 gives this m_0? look at pure-component of gas 0 in mof 0\n",
    "        def f_want_0(p_1):\n",
    "            p = np.array([0.0, p_1])\n",
    "            return f(p)[0] - m_0\n",
    "        p_1 = optimize.root(f_want_0, p_max * m_0 / 0.5).x[0]\n",
    "        p = np.array([0.0, p_1])\n",
    "        return f(p)[1]\n",
    "    elif m_0 > m_top_right[0]: # p_0 = p_max\n",
    "        def f_want_0(p_1):\n",
    "            p = np.array([p_max, p_1])\n",
    "            return f(p)[0] - m_0\n",
    "        p_1 = optimize.root(f_want_0, p_max * m_0 / 0.5).x[0]\n",
    "        p = np.array([p_max, p_1])\n",
    "        return f(p)[1]\n",
    "    else:  # p = [p_0, p_max]\n",
    "        # wut pressure of gas 0 gives this m_0? look at pure-component of gas 0 in mof 0\n",
    "        def f_want_0(p_0):\n",
    "            p = np.array([p_0, p_max])\n",
    "            return f(p)[0] - m_0\n",
    "        p_0 = optimize.root(f_want_0, p_max * m_0 / 0.4).x[0]\n",
    "        p = np.array([p_0, p_max])\n",
    "        return f(p)[1]\n",
    "###\n",
    "#   horizontal lines.\n",
    "#   m_1 known. what is [m_0_start, m_0_end]?\n",
    "\n",
    "# left of horiz line: p_0 = 0. wut is p_1?\n",
    "def get_m0_start(m_1):\n",
    "    if m_1 < m_top_left[1]:\n",
    "        # wut pressure of gas 1 gives this m_1? look at pure-component of gas 1 in mof 1\n",
    "        def f_want_0(p_1):\n",
    "            return ads_model[mofs[1]][gases[1]].loading(p_1) * molecular_weight[gases[1]] / 1000 - m_0\n",
    "        p_1 = optimize.root(f_want_0, p_max).x[0]\n",
    "        # retrun m_0 at this p_1\n",
    "        return ads_model[mofs[0]][gases[1]].loading(p_1) * molecular_weight[gases[1]] / 1000\n",
    "    elif m_1 > m_top_right[1]:\n",
    "        # p0 = pmax is all we kno\n",
    "        def f_want_0(p_1):\n",
    "            p = np.array([p_max, p_1])\n",
    "            return f(p)[1] - m_1\n",
    "        p_1 = optimize.root(f_want_0, p_max/2).x[0]\n",
    "        p = np.array([p_max, p_1])\n",
    "        return f(p)[0]\n",
    "    else:\n",
    "        # p_1 = p_max, gotta find p_0\n",
    "        def f_want_0(p_0):\n",
    "            p = np.array([p_0, p_max])\n",
    "            return f(p)[1] - m_1\n",
    "        p_0 = optimize.root(f_want_0, p_max).x[0]\n",
    "        p = np.array([p_0, p_max])\n",
    "        return f(p)[0]\n",
    "\n",
    "# right of horiz line for fixed m1\n",
    "def get_m0_end(m_1):\n",
    "    # p_1 = 0.0. wut is p_0?\n",
    "    def f_want_0(p_0):\n",
    "        p = np.array([p_0, 0.0])\n",
    "        return f(p)[1] - m_1\n",
    "    p_0 = optimize.root(f_want_0, p_max).x[0]\n",
    "    p = np.array([p_0, 0.0])\n",
    "    return f(p)[0]\n",
    "\n",
    "p_0 = np.zeros(nb_pts)\n",
    "p_1 = np.zeros(nb_pts)\n",
    "for i in range(nb_lines):\n",
    "    ###\n",
    "    #   x = constant (vertical) grid lines\n",
    "    ###\n",
    "    m_0 = ms[i] # m_0 is constant here.\n",
    "    if m_0 < m0_max:\n",
    "        m1_start, m1_end = get_m1_start(m_0), get_m1_end(m_0)\n",
    "        ax[0].vlines(m_0, m1_start, m1_end, color=grid_line_color)\n",
    "\n",
    "        # plot the image of the line in sensor response space\n",
    "        #     loop through points on the line\n",
    "        m_1s = np.linspace(m1_start, m1_end, nb_pts)\n",
    "        for j, m_1 in enumerate(m_1s):\n",
    "            m = np.array([m_0, m_1])\n",
    "            p_0[j], p_1[j]  = g(m)\n",
    "            if np.isnan(p_0[j]) or np.isnan(p_1[j]):\n",
    "                m = np.array([m_0, m_1+0.05])\n",
    "                p_0[j], p_1[j]  = g(m)\n",
    "                if np.isnan(p_0[j]) or np.isnan(p_1[j]):\n",
    "                    p_0[j], p_1[j] = g_knn(m)\n",
    "                    print(\"resorting to knn for \", m)\n",
    "                    print(\"\\tgot p = \", g_knn(m))\n",
    "        ax[1].plot(p_0, p_1, color=grid_line_color)\n",
    "\n",
    "    ###\n",
    "    #   y = constant (horizontal) grid lines\n",
    "    ###\n",
    "    m_1 = ms[i] # m_1 is constant here.\n",
    "    if m_1 < m1_max:\n",
    "        m0_start, m0_end = get_m0_start(m_1), get_m0_end(m_1)\n",
    "    \n",
    "        # TODO find m0 start, end\n",
    "        ax[0].hlines(m_1, m0_start, m0_end, color=grid_line_color)\n",
    "\n",
    "        # plot the image of the line in sensor response space\n",
    "        # loop through points on the line\n",
    "        m_0s = np.linspace(m0_start, m0_end, nb_pts)\n",
    "        for j, m_0 in enumerate(m_0s):\n",
    "            m = np.array([m_0, m_1])\n",
    "            p_0[j], p_1[j] = g(m)\n",
    "            if np.isnan(p_0[j]) or np.isnan(p_1[j]):\n",
    "                p_0[j], p_1[j] = g_knn(m)\n",
    "                print(\"resorting to knn for \", m)\n",
    "                print(\"\\tgot p = \", g_knn(m))\n",
    "        ax[1].plot(p_0, p_1, color=grid_line_color)\n",
    "        \n",
    "plt.tight_layout()\n",
    "plt.savefig(\"m_to_p_2d.pdf\", format=\"pdf\")"
   ]
  },
  {
   "cell_type": "markdown",
   "metadata": {},
   "source": [
    "# Conditionining"
   ]
  },
  {
   "cell_type": "code",
   "execution_count": 92,
   "metadata": {},
   "outputs": [],
   "source": [
    "import numdifftools as nd\n",
    "\n",
    "J_f = nd.Jacobian(f) # a function!"
   ]
  },
  {
   "cell_type": "code",
   "execution_count": null,
   "metadata": {},
   "outputs": [],
   "source": [
    "def condition_no(p):\n",
    "    j = J_f(p) # Jacobian of f(p) at p\n",
    "    return 1 / np.min(np.linalg.svd(j)[1]) # operator norm of inverse of j = J_g(m)"
   ]
  },
  {
   "cell_type": "code",
   "execution_count": null,
   "metadata": {},
   "outputs": [],
   "source": [
    "p_max = 25.0\n",
    "ps = np.linspace(0.01, p_max, 10)\n",
    "z = [[condition_no(np.array([p_x, p_y])) for p_x in ps] for p_y in ps]\n",
    "\n",
    "plt.figure()\n",
    "plt.title(\"condition number, $\\\\xi$\")\n",
    "plt.xlabel(\"$p$, \" + gas_to_label[gases[0]] + \" [bar]\")\n",
    "plt.ylabel(\"$p$, \" + gas_to_label[gases[1]] + \" [bar]\")\n",
    "plt.imshow(z, origin=\"lower\", extent=(0, p_max, 0, p_max))"
   ]
  },
  {
   "cell_type": "code",
   "execution_count": null,
   "metadata": {},
   "outputs": [],
   "source": [
    "scipy.optimize.show_options(solver=\"root\")"
   ]
  },
  {
   "cell_type": "code",
   "execution_count": null,
   "metadata": {},
   "outputs": [],
   "source": []
  }
 ],
 "metadata": {
  "@webio": {
   "lastCommId": "e7ad7e066366418f9a40816152e67d0a",
   "lastKernelId": "1a9fc595-927b-44b9-8042-894002a42150"
  },
  "kernelspec": {
   "display_name": "Python 3",
   "language": "python",
   "name": "python3"
  },
  "language_info": {
   "codemirror_mode": {
    "name": "ipython",
    "version": 3
   },
   "file_extension": ".py",
   "mimetype": "text/x-python",
   "name": "python",
   "nbconvert_exporter": "python",
   "pygments_lexer": "ipython3",
   "version": "3.6.9"
  }
 },
 "nbformat": 4,
 "nbformat_minor": 4
}
