{
 "cells": [
  {
   "cell_type": "code",
   "execution_count": 1,
   "metadata": {},
   "outputs": [
    {
     "name": "stderr",
     "output_type": "stream",
     "text": [
      "In /home/cokes/.local/lib/python3.6/site-packages/matplotlib/mpl-data/stylelib/_classic_test.mplstyle: \n",
      "The text.latex.preview rcparam was deprecated in Matplotlib 3.3 and will be removed two minor releases later.\n",
      "In /home/cokes/.local/lib/python3.6/site-packages/matplotlib/mpl-data/stylelib/_classic_test.mplstyle: \n",
      "The mathtext.fallback_to_cm rcparam was deprecated in Matplotlib 3.3 and will be removed two minor releases later.\n",
      "In /home/cokes/.local/lib/python3.6/site-packages/matplotlib/mpl-data/stylelib/_classic_test.mplstyle: Support for setting the 'mathtext.fallback_to_cm' rcParam is deprecated since 3.3 and will be removed two minor releases later; use 'mathtext.fallback : 'cm' instead.\n",
      "In /home/cokes/.local/lib/python3.6/site-packages/matplotlib/mpl-data/stylelib/_classic_test.mplstyle: \n",
      "The validate_bool_maybe_none function was deprecated in Matplotlib 3.3 and will be removed two minor releases later.\n",
      "In /home/cokes/.local/lib/python3.6/site-packages/matplotlib/mpl-data/stylelib/_classic_test.mplstyle: \n",
      "The savefig.jpeg_quality rcparam was deprecated in Matplotlib 3.3 and will be removed two minor releases later.\n",
      "In /home/cokes/.local/lib/python3.6/site-packages/matplotlib/mpl-data/stylelib/_classic_test.mplstyle: \n",
      "The keymap.all_axes rcparam was deprecated in Matplotlib 3.3 and will be removed two minor releases later.\n",
      "In /home/cokes/.local/lib/python3.6/site-packages/matplotlib/mpl-data/stylelib/_classic_test.mplstyle: \n",
      "The animation.avconv_path rcparam was deprecated in Matplotlib 3.3 and will be removed two minor releases later.\n",
      "In /home/cokes/.local/lib/python3.6/site-packages/matplotlib/mpl-data/stylelib/_classic_test.mplstyle: \n",
      "The animation.avconv_args rcparam was deprecated in Matplotlib 3.3 and will be removed two minor releases later.\n"
     ]
    }
   ],
   "source": [
    "import matplotlib.pyplot as plt\n",
    "import pandas as pd\n",
    "import matplotlib \n",
    "import numpy as np\n",
    "from scipy import optimize\n",
    "from mpl_toolkits.mplot3d import Axes3D\n",
    "import pyiast\n",
    "plt.style.use(\"default\")\n",
    "matplotlib.rc('font', size=10)\n",
    "from matplotlib.offsetbox import TextArea, DrawingArea, OffsetImage, AnnotationBbox\n",
    "import matplotlib.image as mpimg\n",
    "import os\n",
    "from sklearn import neighbors"
   ]
  },
  {
   "cell_type": "markdown",
   "metadata": {},
   "source": [
    "# Loading in Data"
   ]
  },
  {
   "cell_type": "code",
   "execution_count": 2,
   "metadata": {},
   "outputs": [
    {
     "data": {
      "text/html": [
       "<div>\n",
       "<style scoped>\n",
       "    .dataframe tbody tr th:only-of-type {\n",
       "        vertical-align: middle;\n",
       "    }\n",
       "\n",
       "    .dataframe tbody tr th {\n",
       "        vertical-align: top;\n",
       "    }\n",
       "\n",
       "    .dataframe thead th {\n",
       "        text-align: right;\n",
       "    }\n",
       "</style>\n",
       "<table border=\"1\" class=\"dataframe\">\n",
       "  <thead>\n",
       "    <tr style=\"text-align: right;\">\n",
       "      <th></th>\n",
       "      <th>P(bar)</th>\n",
       "      <th>N(mmol/g)</th>\n",
       "      <th>N(g/g)</th>\n",
       "    </tr>\n",
       "  </thead>\n",
       "  <tbody>\n",
       "    <tr>\n",
       "      <th>0</th>\n",
       "      <td>0.0</td>\n",
       "      <td>0.0</td>\n",
       "      <td>0.000000</td>\n",
       "    </tr>\n",
       "    <tr>\n",
       "      <th>1</th>\n",
       "      <td>1.2</td>\n",
       "      <td>1.1</td>\n",
       "      <td>0.048411</td>\n",
       "    </tr>\n",
       "    <tr>\n",
       "      <th>2</th>\n",
       "      <td>2.1</td>\n",
       "      <td>1.8</td>\n",
       "      <td>0.079218</td>\n",
       "    </tr>\n",
       "    <tr>\n",
       "      <th>3</th>\n",
       "      <td>3.2</td>\n",
       "      <td>2.8</td>\n",
       "      <td>0.123228</td>\n",
       "    </tr>\n",
       "    <tr>\n",
       "      <th>4</th>\n",
       "      <td>4.1</td>\n",
       "      <td>3.7</td>\n",
       "      <td>0.162837</td>\n",
       "    </tr>\n",
       "    <tr>\n",
       "      <th>5</th>\n",
       "      <td>5.3</td>\n",
       "      <td>4.9</td>\n",
       "      <td>0.215649</td>\n",
       "    </tr>\n",
       "    <tr>\n",
       "      <th>6</th>\n",
       "      <td>6.3</td>\n",
       "      <td>6.1</td>\n",
       "      <td>0.268461</td>\n",
       "    </tr>\n",
       "    <tr>\n",
       "      <th>7</th>\n",
       "      <td>7.2</td>\n",
       "      <td>7.1</td>\n",
       "      <td>0.312471</td>\n",
       "    </tr>\n",
       "    <tr>\n",
       "      <th>8</th>\n",
       "      <td>8.2</td>\n",
       "      <td>8.4</td>\n",
       "      <td>0.369684</td>\n",
       "    </tr>\n",
       "    <tr>\n",
       "      <th>9</th>\n",
       "      <td>9.4</td>\n",
       "      <td>10.1</td>\n",
       "      <td>0.444501</td>\n",
       "    </tr>\n",
       "    <tr>\n",
       "      <th>10</th>\n",
       "      <td>10.4</td>\n",
       "      <td>11.5</td>\n",
       "      <td>0.506115</td>\n",
       "    </tr>\n",
       "    <tr>\n",
       "      <th>11</th>\n",
       "      <td>11.5</td>\n",
       "      <td>13.0</td>\n",
       "      <td>0.572130</td>\n",
       "    </tr>\n",
       "    <tr>\n",
       "      <th>12</th>\n",
       "      <td>12.3</td>\n",
       "      <td>14.0</td>\n",
       "      <td>0.616140</td>\n",
       "    </tr>\n",
       "    <tr>\n",
       "      <th>13</th>\n",
       "      <td>13.4</td>\n",
       "      <td>15.2</td>\n",
       "      <td>0.668952</td>\n",
       "    </tr>\n",
       "    <tr>\n",
       "      <th>14</th>\n",
       "      <td>14.4</td>\n",
       "      <td>16.1</td>\n",
       "      <td>0.708561</td>\n",
       "    </tr>\n",
       "    <tr>\n",
       "      <th>15</th>\n",
       "      <td>15.5</td>\n",
       "      <td>16.9</td>\n",
       "      <td>0.743769</td>\n",
       "    </tr>\n",
       "    <tr>\n",
       "      <th>16</th>\n",
       "      <td>16.6</td>\n",
       "      <td>17.6</td>\n",
       "      <td>0.774576</td>\n",
       "    </tr>\n",
       "    <tr>\n",
       "      <th>17</th>\n",
       "      <td>17.6</td>\n",
       "      <td>18.1</td>\n",
       "      <td>0.796581</td>\n",
       "    </tr>\n",
       "    <tr>\n",
       "      <th>18</th>\n",
       "      <td>18.6</td>\n",
       "      <td>18.6</td>\n",
       "      <td>0.818586</td>\n",
       "    </tr>\n",
       "    <tr>\n",
       "      <th>19</th>\n",
       "      <td>19.7</td>\n",
       "      <td>19.0</td>\n",
       "      <td>0.836190</td>\n",
       "    </tr>\n",
       "    <tr>\n",
       "      <th>20</th>\n",
       "      <td>20.6</td>\n",
       "      <td>19.4</td>\n",
       "      <td>0.853794</td>\n",
       "    </tr>\n",
       "    <tr>\n",
       "      <th>21</th>\n",
       "      <td>21.6</td>\n",
       "      <td>19.6</td>\n",
       "      <td>0.862596</td>\n",
       "    </tr>\n",
       "    <tr>\n",
       "      <th>22</th>\n",
       "      <td>23.9</td>\n",
       "      <td>20.3</td>\n",
       "      <td>0.893403</td>\n",
       "    </tr>\n",
       "    <tr>\n",
       "      <th>23</th>\n",
       "      <td>25.7</td>\n",
       "      <td>20.6</td>\n",
       "      <td>0.906606</td>\n",
       "    </tr>\n",
       "    <tr>\n",
       "      <th>24</th>\n",
       "      <td>27.9</td>\n",
       "      <td>21.0</td>\n",
       "      <td>0.924210</td>\n",
       "    </tr>\n",
       "    <tr>\n",
       "      <th>25</th>\n",
       "      <td>30.1</td>\n",
       "      <td>21.3</td>\n",
       "      <td>0.937413</td>\n",
       "    </tr>\n",
       "    <tr>\n",
       "      <th>26</th>\n",
       "      <td>32.0</td>\n",
       "      <td>21.5</td>\n",
       "      <td>0.946215</td>\n",
       "    </tr>\n",
       "    <tr>\n",
       "      <th>27</th>\n",
       "      <td>34.1</td>\n",
       "      <td>21.7</td>\n",
       "      <td>0.955017</td>\n",
       "    </tr>\n",
       "    <tr>\n",
       "      <th>28</th>\n",
       "      <td>36.2</td>\n",
       "      <td>21.8</td>\n",
       "      <td>0.959418</td>\n",
       "    </tr>\n",
       "    <tr>\n",
       "      <th>29</th>\n",
       "      <td>38.2</td>\n",
       "      <td>21.9</td>\n",
       "      <td>0.963819</td>\n",
       "    </tr>\n",
       "    <tr>\n",
       "      <th>30</th>\n",
       "      <td>40.3</td>\n",
       "      <td>22.0</td>\n",
       "      <td>0.968220</td>\n",
       "    </tr>\n",
       "    <tr>\n",
       "      <th>31</th>\n",
       "      <td>42.2</td>\n",
       "      <td>22.0</td>\n",
       "      <td>0.968220</td>\n",
       "    </tr>\n",
       "  </tbody>\n",
       "</table>\n",
       "</div>"
      ],
      "text/plain": [
       "    P(bar)  N(mmol/g)    N(g/g)\n",
       "0      0.0        0.0  0.000000\n",
       "1      1.2        1.1  0.048411\n",
       "2      2.1        1.8  0.079218\n",
       "3      3.2        2.8  0.123228\n",
       "4      4.1        3.7  0.162837\n",
       "5      5.3        4.9  0.215649\n",
       "6      6.3        6.1  0.268461\n",
       "7      7.2        7.1  0.312471\n",
       "8      8.2        8.4  0.369684\n",
       "9      9.4       10.1  0.444501\n",
       "10    10.4       11.5  0.506115\n",
       "11    11.5       13.0  0.572130\n",
       "12    12.3       14.0  0.616140\n",
       "13    13.4       15.2  0.668952\n",
       "14    14.4       16.1  0.708561\n",
       "15    15.5       16.9  0.743769\n",
       "16    16.6       17.6  0.774576\n",
       "17    17.6       18.1  0.796581\n",
       "18    18.6       18.6  0.818586\n",
       "19    19.7       19.0  0.836190\n",
       "20    20.6       19.4  0.853794\n",
       "21    21.6       19.6  0.862596\n",
       "22    23.9       20.3  0.893403\n",
       "23    25.7       20.6  0.906606\n",
       "24    27.9       21.0  0.924210\n",
       "25    30.1       21.3  0.937413\n",
       "26    32.0       21.5  0.946215\n",
       "27    34.1       21.7  0.955017\n",
       "28    36.2       21.8  0.959418\n",
       "29    38.2       21.9  0.963819\n",
       "30    40.3       22.0  0.968220\n",
       "31    42.2       22.0  0.968220"
      ]
     },
     "execution_count": 2,
     "metadata": {},
     "output_type": "execute_result"
    }
   ],
   "source": [
    "mofs = [\"HKUST-1\", \"MOF-5\"]\n",
    "gases = [\"co2\", \"ch4\"]\n",
    "molecular_weight = {\"ch4\":16.04, \"co2\":44.01}\n",
    "df = dict()\n",
    "for mof in mofs:\n",
    "    df[mof] = dict()\n",
    "    for gas in gases:\n",
    "        df[mof][gas] = pd.read_csv(os.path.join(\"adsorption_data\", gas + \"_\" + mof + \"_25C.csv\"), skiprows = 1)\n",
    "        if gas == \"ch4\":\n",
    "            df[mof][gas][\"N(mmol/g)\"] = df[mof][gas][\"N(cm3/g)\"] / 22.4\n",
    "        df[mof][gas][\"N(g/g)\"] = df[mof][gas][\"N(mmol/g)\"] * molecular_weight[gas] / 1000 \n",
    "\n",
    "df[\"MOF-5\"][\"co2\"]"
   ]
  },
  {
   "cell_type": "markdown",
   "metadata": {},
   "source": [
    "# Construct Adsorption Models"
   ]
  },
  {
   "cell_type": "code",
   "execution_count": 3,
   "metadata": {},
   "outputs": [
    {
     "name": "stdout",
     "output_type": "stream",
     "text": [
      "co2 in HKUST-1\n"
     ]
    },
    {
     "data": {
      "image/png": "[encoded data removed]",
      "text/plain": [
       "<Figure size 640x480 with 1 Axes>"
      ]
     },
     "metadata": {},
     "output_type": "display_data"
    },
    {
     "name": "stdout",
     "output_type": "stream",
     "text": [
      "ch4 in HKUST-1\n"
     ]
    },
    {
     "data": {
      "image/png": "[encoded data removed]",
      "text/plain": [
       "<Figure size 640x480 with 1 Axes>"
      ]
     },
     "metadata": {},
     "output_type": "display_data"
    },
    {
     "name": "stdout",
     "output_type": "stream",
     "text": [
      "co2 in MOF-5\n"
     ]
    },
    {
     "data": {
      "image/png": "[encoded data removed]",
      "text/plain": [
       "<Figure size 640x480 with 1 Axes>"
      ]
     },
     "metadata": {},
     "output_type": "display_data"
    },
    {
     "name": "stdout",
     "output_type": "stream",
     "text": [
      "ch4 in MOF-5\n"
     ]
    },
    {
     "data": {
      "image/png": "[encoded data removed]",
      "text/plain": [
       "<Figure size 640x480 with 1 Axes>"
      ]
     },
     "metadata": {},
     "output_type": "display_data"
    }
   ],
   "source": [
    "ads_model = dict()\n",
    "for mof in mofs:\n",
    "    ads_model[mof] = dict()\n",
    "    for gas in gases:\n",
    "        print(gas + \" in \" + mof)\n",
    "        if gas == \"co2\" and mof == \"MOF-5\":\n",
    "            ads_model[mof][gas] = pyiast.InterpolatorIsotherm(df[mof][gas],\n",
    "                                                        pressure_key=\"P(bar)\",\n",
    "                                                        loading_key=\"N(mmol/g)\", \n",
    "                                                        fill_value=df[mof][gas][\"N(mmol/g)\"].max()) \n",
    "        else:\n",
    "            ads_model[mof][gas] = pyiast.ModelIsotherm(df[mof][gas],\n",
    "                                                        pressure_key=\"P(bar)\",\n",
    "                                                        loading_key=\"N(mmol/g)\",\n",
    "                                                        model=\"Langmuir\")\n",
    "        pyiast.plot_isotherm(ads_model[mof][gas])"
   ]
  },
  {
   "cell_type": "code",
   "execution_count": 4,
   "metadata": {},
   "outputs": [
    {
     "data": {
      "text/plain": [
       "{'M': 11.258065277579124, 'K': 0.57196295270447}"
      ]
     },
     "execution_count": 4,
     "metadata": {},
     "output_type": "execute_result"
    }
   ],
   "source": [
    "ads_model[\"HKUST-1\"][\"co2\"].params"
   ]
  },
  {
   "cell_type": "code",
   "execution_count": 5,
   "metadata": {},
   "outputs": [
    {
     "data": {
      "text/plain": [
       "1.1556423315374746"
      ]
     },
     "execution_count": 5,
     "metadata": {},
     "output_type": "execute_result"
    }
   ],
   "source": [
    "ads_model[\"HKUST-1\"][\"co2\"].loading(0.2)"
   ]
  },
  {
   "cell_type": "code",
   "execution_count": 6,
   "metadata": {},
   "outputs": [
    {
     "data": {
      "text/plain": [
       "array(22.)"
      ]
     },
     "execution_count": 6,
     "metadata": {},
     "output_type": "execute_result"
    }
   ],
   "source": [
    "ads_model[\"MOF-5\"][\"co2\"].loading(1330.0)"
   ]
  },
  {
   "cell_type": "code",
   "execution_count": 7,
   "metadata": {},
   "outputs": [],
   "source": [
    "\"\"\"\n",
    "    m = f(p)\n",
    "\n",
    "return adsorbed mass in the MOFs as a function of pressure.\n",
    "\n",
    "both m and p are arrays here.\n",
    "\n",
    "m[i]: total mass adsorbed in MOF i\n",
    "p[i]: partial pressure of gas i\n",
    "\"\"\"\n",
    "def f(p):\n",
    "    if np.any(p < 0.0):\n",
    "        return np.array([-100.0 * np.linalg.norm(p), -100.0 * np.linalg.norm(p)])\n",
    "    m = np.zeros(2)\n",
    "    for i, mof in enumerate(mofs):\n",
    "        # if gas is pure gas 1\n",
    "        if p[0] == 0.0:\n",
    "            m[i] = ads_model[mof][gases[1]].loading(p[1])\n",
    "            continue\n",
    "        #  if gas is pure gas 0\n",
    "        if p[1] == 0.0:\n",
    "            m[i] = ads_model[mof][gases[0]].loading(p[0])\n",
    "            continue\n",
    "        # if reached this far, need IAST\n",
    "        # first, a reasonable guess for adsorbed_mole_fraction_guess\n",
    "        #  based on pure-component loadings\n",
    "        m_guess = np.zeros(2)\n",
    "        for g, gas in enumerate(gases):\n",
    "            m_guess[g] = ads_model[mof][gas].loading(p[g])\n",
    "        m_guess = m_guess / np.sum(m_guess)\n",
    "        q = pyiast.iast(p, [ads_model[mof][gases[0]], ads_model[mof][gases[1]]],\n",
    "                        verboseflag=False, adsorbed_mole_fraction_guess=m_guess, warningoff=True)\n",
    "        m[i] = np.sum(q)\n",
    "    return m\n",
    "\n",
    "# turn warningoff=False to see if there are warnings."
   ]
  },
  {
   "cell_type": "code",
   "execution_count": 8,
   "metadata": {},
   "outputs": [
    {
     "data": {
      "text/plain": [
       "array([8.87900924, 6.34877264])"
      ]
     },
     "execution_count": 8,
     "metadata": {},
     "output_type": "execute_result"
    }
   ],
   "source": [
    "p = np.array([5.0, 4.0])\n",
    "m = f(p)\n",
    "m"
   ]
  },
  {
   "cell_type": "markdown",
   "metadata": {},
   "source": [
    "## NN algo for good guess\n",
    "forward function `f` is robust.\n",
    "\n",
    "inverse function is not... so let's use nearest neighbors to get a good guess for the inverse function."
   ]
  },
  {
   "cell_type": "code",
   "execution_count": 9,
   "metadata": {},
   "outputs": [
    {
     "name": "stderr",
     "output_type": "stream",
     "text": [
      "/usr/local/lib/python3.6/dist-packages/pyiast/isotherms.py:351: RuntimeWarning: invalid value encountered in log\n",
      "  return self.params[\"M\"] * np.log(1.0 + self.params[\"K\"] * pressure)\n"
     ]
    },
    {
     "data": {
      "text/plain": [
       "array([5.29411765, 3.23529412])"
      ]
     },
     "execution_count": 9,
     "metadata": {},
     "output_type": "execute_result"
    }
   ],
   "source": [
    "ps = np.linspace(0, 10.0, 35)\n",
    "knn = neighbors.KNeighborsRegressor(1)\n",
    "P = []\n",
    "M = []\n",
    "for i in range(len(ps)):\n",
    "    for j in range(len(ps)):\n",
    "        p = np.array([ps[i], ps[j]])\n",
    "        P.append(p)\n",
    "        M.append(f(p))\n",
    "knn_model = knn.fit(M, P) # the inverse problem\n",
    "\n",
    "def g_knn(m):\n",
    "    return knn_model.predict([m])[0]\n",
    "\n",
    "g_knn(m)"
   ]
  },
  {
   "cell_type": "markdown",
   "metadata": {},
   "source": [
    "# Adsorption model $\\mathbf{m}(\\mathbf{p})$"
   ]
  },
  {
   "cell_type": "code",
   "execution_count": 10,
   "metadata": {},
   "outputs": [],
   "source": [
    "### Old adsorption model without data ###\n",
    "\n",
    "# Langmuir params for MOF 2\n",
    "# K2 = [0.1, 0.5]\n",
    "# M2 = 1.0\n",
    "# # Langmuir params for MOF 1\n",
    "# K1 = [0.7, 0.3]\n",
    "# M1 = 2.0\n",
    "\n",
    "# # f is the forward function\n",
    "# def f_1(p):\n",
    "#     return M1 * np.dot(K1, p) / (1 + np.dot(K1, p))\n",
    "\n",
    "# def f_2(p):\n",
    "#     return M2 * np.dot(K2, p) / (1 + np.dot(K2, p))\n",
    "\n",
    "# def f(p): #p is a vector\n",
    "#     return [f_1(p), f_2(p)]"
   ]
  },
  {
   "cell_type": "markdown",
   "metadata": {},
   "source": [
    "# Inverse of adsorption model $\\mathbf{p}(\\mathbf{m})$"
   ]
  },
  {
   "cell_type": "code",
   "execution_count": 11,
   "metadata": {},
   "outputs": [],
   "source": [
    "\"\"\"\n",
    "    p = g(m)\n",
    "\n",
    "inverse of f(p). i.e. given m, return p that produces it.\n",
    "if not a successful root finding, return Nans\n",
    "\"\"\"\n",
    "def g(m): \n",
    "    #  we want this function to return a zero vector\n",
    "    #  it takes in a pressure p\n",
    "    #  it outputs the corresponding difference between the response and the response m_0 that we find\n",
    "    #  if we find the right p that gives us the response m_0, then this will be the zero vector\n",
    "    def f_want_0(p):\n",
    "        return (f(p) - m) * 2\n",
    "    p_guess = g_knn(m)\n",
    "    sol = optimize.root(f_want_0, p_guess)\n",
    "    p = sol.x\n",
    "    # return nan if p less than lower bound, greater than upper bound\n",
    "#     if p[0] < p_lb or p[1] < p_lb or p[0] > p_ub or p[1] > p_ub:\n",
    "#         return np.array([np.nan, np.nan])\n",
    "#     if not sol.success:\n",
    "#         return np.array([np.nan, np.nan])\n",
    "    return p"
   ]
  },
  {
   "cell_type": "code",
   "execution_count": 12,
   "metadata": {},
   "outputs": [
    {
     "data": {
      "text/plain": [
       "array([5., 4.])"
      ]
     },
     "execution_count": 12,
     "metadata": {},
     "output_type": "execute_result"
    }
   ],
   "source": [
    "g(m)"
   ]
  },
  {
   "cell_type": "markdown",
   "metadata": {},
   "source": [
    "# $\\kappa$ for inverse problem "
   ]
  },
  {
   "cell_type": "code",
   "execution_count": 13,
   "metadata": {},
   "outputs": [
    {
     "data": {
      "text/plain": [
       "{'M': 32.246842920360606, 'K': 0.013992308846397912}"
      ]
     },
     "execution_count": 13,
     "metadata": {},
     "output_type": "execute_result"
    }
   ],
   "source": [
    "ads_model[\"MOF-5\"][\"ch4\"].params"
   ]
  },
  {
   "cell_type": "code",
   "execution_count": 14,
   "metadata": {},
   "outputs": [],
   "source": [
    "# gets inverse condition number in terms of p\n",
    "def κ_of_p(p, mof1, mof2, gas):\n",
    "    J_f = np.array([[ads_model[mof1][gas].params[\"M\"]*K1[0]/(1 + np.dot(K1, p))**2, \n",
    "                    ads_model[mof1][gas].params[\"M\"]*K1[1]/(1 + np.dot(K1, p))**2],\n",
    "                    [ads_model[mof2][gas].params[\"M\"]*K2[0]/(1 + np.dot(K2, p))**2, \n",
    "                    ads_model[mof2][gas].params[\"M\"]*K2[1]/(1 + np.dot(K2, p))**2]])\n",
    "    J_g = np.linalg.inv(J_f) # by inverse function theorem\n",
    " \n",
    "    # Check that norm of J_g is equal to 1/smallest singlular value of J_f\n",
    "#     u, s, vh = np.linalg.svd(J_f)\n",
    "#     print(\"norm of J_g: \", np.linalg.norm(J_g, ord=2) )\n",
    "#     print(\"1/smallest singular value of J_f: \", 1/s[-1])\n",
    "#     print((  np.linalg.norm(m) / np.linalg.norm(p)) * (1 / s[-1]))\n",
    "    \n",
    "    #return (  np.linalg.norm(m) / np.linalg.norm(p)) * (1 / s[-1])\n",
    "    return np.linalg.norm(J_g, ord=2)\n",
    "\n",
    "\n",
    "\n",
    "# # gets inverse condition number in terms of p\n",
    "# def κ_of_p(p):\n",
    "#     J_f = np.array([ [M1*K1[0]/(1 + np.dot(K1, p))**2, M1*K1[1]/(1 + np.dot(K1, p))**2],\n",
    "#        [M2*K2[0]/(1 + np.dot(K2, p))**2, M2*K2[1]/(1 + np.dot(K2, p))**2]])\n",
    "#     J_g = np.linalg.inv(J_f) # by inverse function theorem\n",
    " \n",
    "#     # Check that norm of J_g is equal to 1/smallest singlular value of J_f\n",
    "# #     u, s, vh = np.linalg.svd(J_f)\n",
    "# #     print(\"norm of J_g: \", np.linalg.norm(J_g, ord=2) )\n",
    "# #     print(\"1/smallest singular value of J_f: \", 1/s[-1])\n",
    "# #     print((  np.linalg.norm(m) / np.linalg.norm(p)) * (1 / s[-1]))\n",
    "    \n",
    "#     #return (  np.linalg.norm(m) / np.linalg.norm(p)) * (1 / s[-1])\n",
    "#     return np.linalg.norm(J_g, ord=2)"
   ]
  },
  {
   "cell_type": "markdown",
   "metadata": {},
   "source": [
    "# Bivariate Color Map"
   ]
  },
  {
   "cell_type": "code",
   "execution_count": 15,
   "metadata": {},
   "outputs": [],
   "source": [
    "def colorFromBivariateData(x,y,cmap1 = plt.cm.Greens, cmap2 = plt.cm.YlOrRd):\n",
    "    if np.any(x > 1) or np.any(y > 1):\n",
    "        raise Exception(\"Numbers must be between 0 and 1.\")\n",
    "    if np.any(np.isnan(x)) or np.any(np.isnan(y)):\n",
    "        return np.array([1, 1, 1, 1])\n",
    "    x_color = cmap1(x)\n",
    "    y_color = cmap2(y)\n",
    "\n",
    "    # Color for each point\n",
    "    xy_color = np.sum([x_color, y_color], axis=0)/2.0\n",
    "\n",
    "    return xy_color"
   ]
  },
  {
   "cell_type": "code",
   "execution_count": 16,
   "metadata": {},
   "outputs": [
    {
     "data": {
      "text/plain": [
       "<matplotlib.image.AxesImage at 0x7fe89f48d828>"
      ]
     },
     "execution_count": 16,
     "metadata": {},
     "output_type": "execute_result"
    },
    {
     "data": {
      "image/png": "[encoded data removed]",
      "text/plain": [
       "<Figure size 640x480 with 1 Axes>"
      ]
     },
     "metadata": {},
     "output_type": "display_data"
    }
   ],
   "source": [
    "# Example of colorFromBivariateData function\n",
    "x = np.linspace(0, 1)\n",
    "y = np.linspace(0, 1)\n",
    "z = [[colorFromBivariateData(x[i], y[j]) for i in range(np.size(x))] for j in range(np.size(y))]\n",
    "extent = (0, 1, 0, 1) #figure out how to put our desired x/y lims on this\n",
    "plt.imshow(z, extent=extent, origin='lower')"
   ]
  },
  {
   "cell_type": "markdown",
   "metadata": {},
   "source": [
    "# Functions to draw grid lines"
   ]
  },
  {
   "cell_type": "code",
   "execution_count": 17,
   "metadata": {},
   "outputs": [],
   "source": [
    "# function to draw vertial grid line on plot\n",
    "def draw_vert_line(x, y_min, y_max, plt_num):\n",
    "    ax[plt_num].plot([x, x], [y_min, y_max], color=\"black\", lw=3)  \n",
    "\n",
    "# function to draw horizontal grid line on plot\n",
    "def draw_horizontal_line(y, x_min, x_max, plt_num):\n",
    "    ax[plt_num].plot([x_min, x_max], [y, y], color=\"black\", lw=3) "
   ]
  },
  {
   "cell_type": "markdown",
   "metadata": {},
   "source": [
    "# Functions to determine valid ranges of m1, m2"
   ]
  },
  {
   "cell_type": "code",
   "execution_count": 18,
   "metadata": {},
   "outputs": [],
   "source": [
    "#f([0, pB], mof)\n",
    "\n",
    "#### Functions to get valid m values to draw vertical grid lines ####\n",
    "def find_pa_vert(m1): #find pa given that f_1([pa,0]) = m1\n",
    "    return m1 / ((M1 - m1) * K1[0])\n",
    "\n",
    "def find_pb_vert(m1): #find pb given that f_1([0, pb]) = m1\n",
    "    return m1 / ((M1 - m1) * K1[1])\n",
    "\n",
    "def find_pa_vert_pmax(m1): #find pa given that f_1([pa,p_max]) = m1\n",
    "    return (m1 + m1*K1[1]*p_max - M1*K1[1]*p_max) / ((M1 - m1) * K1[0])\n",
    "\n",
    "def find_pb_vert_pmax(m1): #find pb given that f_1([p_max, pb]) = m1\n",
    "    return (m1 + m1*K1[0]*p_max - M1*K1[0]*p_max) / ((M1 - m1) * K1[1])\n",
    "\n",
    "def valid_m2(m1): #find valid m2 value range for m1 \n",
    "    pa = find_pa_vert(m1)\n",
    "    pb = find_pb_vert(m1)   \n",
    "    if pb > p_max and pa < p_max:\n",
    "        m2_min = f([pa, 0])[1]\n",
    "        m2_max = f([find_pa_vert_pmax(m1), p_max])[1]\n",
    "    elif pb > p_max and pa > p_max:\n",
    "        m2_min = f([p_max, find_pb_vert_pmax(m1)])[1]\n",
    "        m2_max = f([find_pa_vert_pmax(m1), p_max])[1]\n",
    "    else:\n",
    "        m2_min = f([pa, 0])[1]\n",
    "        m2_max = f([0, pb])[1]\n",
    "    return m2_min, m2_max"
   ]
  },
  {
   "cell_type": "code",
   "execution_count": 19,
   "metadata": {},
   "outputs": [],
   "source": [
    "#### Functions to get valid m values to draw horizontal grid lines ####\n",
    "def find_pa_horizontal(m2): #find pa given that f_1([pa,0]) = m2\n",
    "    return m2 / ((M2 - m2) * K2[0])\n",
    "\n",
    "def find_pb_horizontal(m2): #find pb given that f_1([0, pb]) = m2\n",
    "    return m2 / ((M2 - m2) * K2[1])\n",
    "\n",
    "def find_pa_horizontal_pmax(m2): #find pa given that f_1([pa,p_max]) = m2\n",
    "    return (m2 + m2*K2[1]*p_max - M2*K2[1]*p_max) / ((M2 - m2) * K2[0])\n",
    "\n",
    "def find_pb_horizontal_pmax(m2): #find pb given that f_1([p_max, pb]) = m2\n",
    "    return (m2 + m2*K2[0]*p_max - M2*K2[0]*p_max) / ((M2 - m2) * K2[1])\n",
    "\n",
    "def valid_m1(m2): #find valid m1 value range for m2 \n",
    "    pa = find_pa_horizontal(m2)\n",
    "    pb = find_pb_horizontal(m2)   \n",
    "    if pa > p_max and pb < p_max:\n",
    "        m1_min = f_1([0, pb])\n",
    "        m1_max = f_1([p_max, find_pb_horizontal_pmax(m2)])\n",
    "    elif pa > p_max and pb > p_max:\n",
    "        m1_min = f_1([find_pa_horizontal_pmax(m2), p_max])\n",
    "        m1_max = f_1([p_max, find_pb_horizontal_pmax(m2)])\n",
    "    else:\n",
    "        m1_min = f_1([0, pb])\n",
    "        m1_max = f_1([pa, 0])    \n",
    "    return m1_min, m1_max"
   ]
  },
  {
   "cell_type": "markdown",
   "metadata": {},
   "source": [
    "# Function to draw boundary on response space"
   ]
  },
  {
   "cell_type": "code",
   "execution_count": 20,
   "metadata": {},
   "outputs": [],
   "source": [
    "# Function to draw boundary around response space figure\n",
    "def draw_mspace_boundaries(p_max, plt_num):\n",
    "    x = np.linspace(0, p_max, 50) \n",
    "    m1 = np.zeros(len(x))\n",
    "    m2 = np.zeros(len(x))\n",
    "    for i in range(len(x)):\n",
    "        # make pa = 0\n",
    "        p = np.array([0, x[i]])\n",
    "        m1[i] = f(p)[0] \n",
    "        m2[i] = f(p)[1]\n",
    "    ax[plt_num].plot(m1,m2, color=\"black\", lw=3)\n",
    "    for i in range(len(x)):        \n",
    "        # make pb = 0\n",
    "        p = np.array([x[i], 0])\n",
    "        m1[i], m2[i] = f(p) \n",
    "    ax[plt_num].plot(m1,m2,color=\"black\", lw=3)\n",
    "    for i in range(len(x)):        \n",
    "        # make pa = max\n",
    "        p = np.array([p_max, x[i]])\n",
    "        m1[i], m2[i] = f(p) \n",
    "    ax[plt_num].plot(m1,m2,color=\"black\", lw=3)\n",
    "    for i in range(len(x)):        \n",
    "        # make pb = max\n",
    "        p = np.array([x[i], p_max])\n",
    "        m1[i], m2[i] = f(p) \n",
    "    ax[plt_num].plot(m1,m2,color=\"black\", lw=3)"
   ]
  },
  {
   "cell_type": "markdown",
   "metadata": {},
   "source": [
    "# Mapping Composition Space to Response Space"
   ]
  },
  {
   "cell_type": "code",
   "execution_count": 21,
   "metadata": {},
   "outputs": [
    {
     "name": "stderr",
     "output_type": "stream",
     "text": [
      "/usr/local/lib/python3.6/dist-packages/pyiast/isotherms.py:351: RuntimeWarning: invalid value encountered in log\n",
      "  return self.params[\"M\"] * np.log(1.0 + self.params[\"K\"] * pressure)\n",
      "/usr/local/lib/python3.6/dist-packages/pyiast/isotherms.py:351: RuntimeWarning: invalid value encountered in log\n",
      "  return self.params[\"M\"] * np.log(1.0 + self.params[\"K\"] * pressure)\n",
      "/usr/local/lib/python3.6/dist-packages/pyiast/isotherms.py:351: RuntimeWarning: invalid value encountered in log\n",
      "  return self.params[\"M\"] * np.log(1.0 + self.params[\"K\"] * pressure)\n",
      "/usr/local/lib/python3.6/dist-packages/pyiast/isotherms.py:351: RuntimeWarning: invalid value encountered in log\n",
      "  return self.params[\"M\"] * np.log(1.0 + self.params[\"K\"] * pressure)\n",
      "/usr/local/lib/python3.6/dist-packages/pyiast/isotherms.py:351: RuntimeWarning: invalid value encountered in log\n",
      "  return self.params[\"M\"] * np.log(1.0 + self.params[\"K\"] * pressure)\n",
      "/usr/local/lib/python3.6/dist-packages/pyiast/isotherms.py:351: RuntimeWarning: invalid value encountered in log\n",
      "  return self.params[\"M\"] * np.log(1.0 + self.params[\"K\"] * pressure)\n",
      "/usr/local/lib/python3.6/dist-packages/pyiast/isotherms.py:351: RuntimeWarning: invalid value encountered in log\n",
      "  return self.params[\"M\"] * np.log(1.0 + self.params[\"K\"] * pressure)\n",
      "/usr/local/lib/python3.6/dist-packages/pyiast/isotherms.py:351: RuntimeWarning: invalid value encountered in log\n",
      "  return self.params[\"M\"] * np.log(1.0 + self.params[\"K\"] * pressure)\n",
      "/usr/local/lib/python3.6/dist-packages/pyiast/isotherms.py:351: RuntimeWarning: invalid value encountered in log\n",
      "  return self.params[\"M\"] * np.log(1.0 + self.params[\"K\"] * pressure)\n",
      "/usr/local/lib/python3.6/dist-packages/pyiast/isotherms.py:351: RuntimeWarning: invalid value encountered in log\n",
      "  return self.params[\"M\"] * np.log(1.0 + self.params[\"K\"] * pressure)\n",
      "/usr/local/lib/python3.6/dist-packages/pyiast/isotherms.py:351: RuntimeWarning: invalid value encountered in log\n",
      "  return self.params[\"M\"] * np.log(1.0 + self.params[\"K\"] * pressure)\n",
      "/usr/local/lib/python3.6/dist-packages/pyiast/isotherms.py:351: RuntimeWarning: invalid value encountered in log\n",
      "  return self.params[\"M\"] * np.log(1.0 + self.params[\"K\"] * pressure)\n",
      "/usr/local/lib/python3.6/dist-packages/pyiast/isotherms.py:351: RuntimeWarning: invalid value encountered in log\n",
      "  return self.params[\"M\"] * np.log(1.0 + self.params[\"K\"] * pressure)\n",
      "/usr/local/lib/python3.6/dist-packages/pyiast/isotherms.py:351: RuntimeWarning: invalid value encountered in log\n",
      "  return self.params[\"M\"] * np.log(1.0 + self.params[\"K\"] * pressure)\n",
      "/usr/local/lib/python3.6/dist-packages/pyiast/isotherms.py:351: RuntimeWarning: invalid value encountered in log\n",
      "  return self.params[\"M\"] * np.log(1.0 + self.params[\"K\"] * pressure)\n",
      "/usr/local/lib/python3.6/dist-packages/pyiast/isotherms.py:351: RuntimeWarning: invalid value encountered in log\n",
      "  return self.params[\"M\"] * np.log(1.0 + self.params[\"K\"] * pressure)\n",
      "/usr/local/lib/python3.6/dist-packages/pyiast/isotherms.py:351: RuntimeWarning: invalid value encountered in log\n",
      "  return self.params[\"M\"] * np.log(1.0 + self.params[\"K\"] * pressure)\n",
      "/usr/local/lib/python3.6/dist-packages/pyiast/isotherms.py:351: RuntimeWarning: invalid value encountered in log\n",
      "  return self.params[\"M\"] * np.log(1.0 + self.params[\"K\"] * pressure)\n",
      "/usr/local/lib/python3.6/dist-packages/pyiast/isotherms.py:351: RuntimeWarning: invalid value encountered in log\n",
      "  return self.params[\"M\"] * np.log(1.0 + self.params[\"K\"] * pressure)\n",
      "/usr/local/lib/python3.6/dist-packages/pyiast/isotherms.py:351: RuntimeWarning: invalid value encountered in log\n",
      "  return self.params[\"M\"] * np.log(1.0 + self.params[\"K\"] * pressure)\n",
      "/usr/local/lib/python3.6/dist-packages/pyiast/isotherms.py:351: RuntimeWarning: invalid value encountered in log\n",
      "  return self.params[\"M\"] * np.log(1.0 + self.params[\"K\"] * pressure)\n",
      "/usr/local/lib/python3.6/dist-packages/pyiast/isotherms.py:351: RuntimeWarning: invalid value encountered in log\n",
      "  return self.params[\"M\"] * np.log(1.0 + self.params[\"K\"] * pressure)\n",
      "/usr/local/lib/python3.6/dist-packages/pyiast/isotherms.py:351: RuntimeWarning: invalid value encountered in log\n",
      "  return self.params[\"M\"] * np.log(1.0 + self.params[\"K\"] * pressure)\n",
      "/usr/local/lib/python3.6/dist-packages/pyiast/isotherms.py:351: RuntimeWarning: invalid value encountered in log\n",
      "  return self.params[\"M\"] * np.log(1.0 + self.params[\"K\"] * pressure)\n",
      "/usr/local/lib/python3.6/dist-packages/pyiast/isotherms.py:351: RuntimeWarning: invalid value encountered in log\n",
      "  return self.params[\"M\"] * np.log(1.0 + self.params[\"K\"] * pressure)\n",
      "/usr/local/lib/python3.6/dist-packages/pyiast/isotherms.py:351: RuntimeWarning: invalid value encountered in log\n",
      "  return self.params[\"M\"] * np.log(1.0 + self.params[\"K\"] * pressure)\n",
      "/usr/local/lib/python3.6/dist-packages/pyiast/isotherms.py:351: RuntimeWarning: invalid value encountered in log\n",
      "  return self.params[\"M\"] * np.log(1.0 + self.params[\"K\"] * pressure)\n",
      "/usr/local/lib/python3.6/dist-packages/pyiast/isotherms.py:351: RuntimeWarning: invalid value encountered in log\n",
      "  return self.params[\"M\"] * np.log(1.0 + self.params[\"K\"] * pressure)\n",
      "/usr/local/lib/python3.6/dist-packages/pyiast/isotherms.py:351: RuntimeWarning: invalid value encountered in log\n",
      "  return self.params[\"M\"] * np.log(1.0 + self.params[\"K\"] * pressure)\n",
      "/usr/local/lib/python3.6/dist-packages/pyiast/isotherms.py:351: RuntimeWarning: invalid value encountered in log\n",
      "  return self.params[\"M\"] * np.log(1.0 + self.params[\"K\"] * pressure)\n",
      "/usr/local/lib/python3.6/dist-packages/pyiast/isotherms.py:351: RuntimeWarning: invalid value encountered in log\n",
      "  return self.params[\"M\"] * np.log(1.0 + self.params[\"K\"] * pressure)\n",
      "/usr/local/lib/python3.6/dist-packages/pyiast/isotherms.py:351: RuntimeWarning: invalid value encountered in log\n",
      "  return self.params[\"M\"] * np.log(1.0 + self.params[\"K\"] * pressure)\n",
      "/usr/local/lib/python3.6/dist-packages/pyiast/isotherms.py:351: RuntimeWarning: invalid value encountered in log\n",
      "  return self.params[\"M\"] * np.log(1.0 + self.params[\"K\"] * pressure)\n",
      "/usr/local/lib/python3.6/dist-packages/pyiast/isotherms.py:351: RuntimeWarning: invalid value encountered in log\n",
      "  return self.params[\"M\"] * np.log(1.0 + self.params[\"K\"] * pressure)\n",
      "/usr/local/lib/python3.6/dist-packages/pyiast/isotherms.py:351: RuntimeWarning: invalid value encountered in log\n",
      "  return self.params[\"M\"] * np.log(1.0 + self.params[\"K\"] * pressure)\n",
      "/usr/local/lib/python3.6/dist-packages/pyiast/isotherms.py:351: RuntimeWarning: invalid value encountered in log\n",
      "  return self.params[\"M\"] * np.log(1.0 + self.params[\"K\"] * pressure)\n",
      "/usr/local/lib/python3.6/dist-packages/pyiast/isotherms.py:351: RuntimeWarning: invalid value encountered in log\n",
      "  return self.params[\"M\"] * np.log(1.0 + self.params[\"K\"] * pressure)\n",
      "/usr/local/lib/python3.6/dist-packages/pyiast/isotherms.py:351: RuntimeWarning: invalid value encountered in log\n",
      "  return self.params[\"M\"] * np.log(1.0 + self.params[\"K\"] * pressure)\n",
      "/usr/local/lib/python3.6/dist-packages/pyiast/isotherms.py:351: RuntimeWarning: invalid value encountered in log\n",
      "  return self.params[\"M\"] * np.log(1.0 + self.params[\"K\"] * pressure)\n",
      "/usr/local/lib/python3.6/dist-packages/pyiast/isotherms.py:351: RuntimeWarning: invalid value encountered in log\n",
      "  return self.params[\"M\"] * np.log(1.0 + self.params[\"K\"] * pressure)\n",
      "/usr/local/lib/python3.6/dist-packages/pyiast/isotherms.py:351: RuntimeWarning: invalid value encountered in log\n",
      "  return self.params[\"M\"] * np.log(1.0 + self.params[\"K\"] * pressure)\n",
      "/usr/local/lib/python3.6/dist-packages/pyiast/isotherms.py:351: RuntimeWarning: invalid value encountered in log\n",
      "  return self.params[\"M\"] * np.log(1.0 + self.params[\"K\"] * pressure)\n",
      "/usr/local/lib/python3.6/dist-packages/pyiast/isotherms.py:351: RuntimeWarning: invalid value encountered in log\n",
      "  return self.params[\"M\"] * np.log(1.0 + self.params[\"K\"] * pressure)\n",
      "/usr/local/lib/python3.6/dist-packages/pyiast/isotherms.py:351: RuntimeWarning: invalid value encountered in log\n",
      "  return self.params[\"M\"] * np.log(1.0 + self.params[\"K\"] * pressure)\n",
      "/usr/local/lib/python3.6/dist-packages/pyiast/isotherms.py:351: RuntimeWarning: invalid value encountered in log\n",
      "  return self.params[\"M\"] * np.log(1.0 + self.params[\"K\"] * pressure)\n",
      "/usr/local/lib/python3.6/dist-packages/pyiast/isotherms.py:351: RuntimeWarning: invalid value encountered in log\n",
      "  return self.params[\"M\"] * np.log(1.0 + self.params[\"K\"] * pressure)\n",
      "/usr/local/lib/python3.6/dist-packages/pyiast/isotherms.py:351: RuntimeWarning: invalid value encountered in log\n",
      "  return self.params[\"M\"] * np.log(1.0 + self.params[\"K\"] * pressure)\n",
      "/usr/local/lib/python3.6/dist-packages/pyiast/isotherms.py:351: RuntimeWarning: invalid value encountered in log\n",
      "  return self.params[\"M\"] * np.log(1.0 + self.params[\"K\"] * pressure)\n",
      "/usr/local/lib/python3.6/dist-packages/pyiast/isotherms.py:351: RuntimeWarning: invalid value encountered in log\n",
      "  return self.params[\"M\"] * np.log(1.0 + self.params[\"K\"] * pressure)\n",
      "/usr/local/lib/python3.6/dist-packages/pyiast/isotherms.py:351: RuntimeWarning: invalid value encountered in log\n",
      "  return self.params[\"M\"] * np.log(1.0 + self.params[\"K\"] * pressure)\n",
      "/usr/local/lib/python3.6/dist-packages/pyiast/isotherms.py:351: RuntimeWarning: invalid value encountered in log\n",
      "  return self.params[\"M\"] * np.log(1.0 + self.params[\"K\"] * pressure)\n",
      "/usr/local/lib/python3.6/dist-packages/pyiast/isotherms.py:351: RuntimeWarning: invalid value encountered in log\n",
      "  return self.params[\"M\"] * np.log(1.0 + self.params[\"K\"] * pressure)\n",
      "/usr/local/lib/python3.6/dist-packages/pyiast/isotherms.py:351: RuntimeWarning: invalid value encountered in log\n",
      "  return self.params[\"M\"] * np.log(1.0 + self.params[\"K\"] * pressure)\n",
      "/usr/local/lib/python3.6/dist-packages/pyiast/isotherms.py:351: RuntimeWarning: invalid value encountered in log\n",
      "  return self.params[\"M\"] * np.log(1.0 + self.params[\"K\"] * pressure)\n",
      "/usr/local/lib/python3.6/dist-packages/pyiast/isotherms.py:351: RuntimeWarning: invalid value encountered in log\n",
      "  return self.params[\"M\"] * np.log(1.0 + self.params[\"K\"] * pressure)\n",
      "/usr/local/lib/python3.6/dist-packages/pyiast/isotherms.py:351: RuntimeWarning: invalid value encountered in log\n",
      "  return self.params[\"M\"] * np.log(1.0 + self.params[\"K\"] * pressure)\n",
      "/usr/local/lib/python3.6/dist-packages/pyiast/isotherms.py:351: RuntimeWarning: invalid value encountered in log\n",
      "  return self.params[\"M\"] * np.log(1.0 + self.params[\"K\"] * pressure)\n",
      "/usr/local/lib/python3.6/dist-packages/pyiast/isotherms.py:351: RuntimeWarning: invalid value encountered in log\n",
      "  return self.params[\"M\"] * np.log(1.0 + self.params[\"K\"] * pressure)\n",
      "/usr/local/lib/python3.6/dist-packages/pyiast/isotherms.py:351: RuntimeWarning: invalid value encountered in log\n",
      "  return self.params[\"M\"] * np.log(1.0 + self.params[\"K\"] * pressure)\n",
      "/usr/local/lib/python3.6/dist-packages/pyiast/isotherms.py:351: RuntimeWarning: invalid value encountered in log\n",
      "  return self.params[\"M\"] * np.log(1.0 + self.params[\"K\"] * pressure)\n",
      "/usr/local/lib/python3.6/dist-packages/pyiast/isotherms.py:351: RuntimeWarning: invalid value encountered in log\n",
      "  return self.params[\"M\"] * np.log(1.0 + self.params[\"K\"] * pressure)\n",
      "/usr/local/lib/python3.6/dist-packages/pyiast/isotherms.py:351: RuntimeWarning: invalid value encountered in log\n",
      "  return self.params[\"M\"] * np.log(1.0 + self.params[\"K\"] * pressure)\n",
      "/usr/local/lib/python3.6/dist-packages/pyiast/isotherms.py:351: RuntimeWarning: invalid value encountered in log\n",
      "  return self.params[\"M\"] * np.log(1.0 + self.params[\"K\"] * pressure)\n",
      "/usr/local/lib/python3.6/dist-packages/pyiast/isotherms.py:351: RuntimeWarning: invalid value encountered in log\n",
      "  return self.params[\"M\"] * np.log(1.0 + self.params[\"K\"] * pressure)\n",
      "/usr/local/lib/python3.6/dist-packages/pyiast/isotherms.py:351: RuntimeWarning: invalid value encountered in log\n",
      "  return self.params[\"M\"] * np.log(1.0 + self.params[\"K\"] * pressure)\n",
      "/usr/local/lib/python3.6/dist-packages/pyiast/isotherms.py:351: RuntimeWarning: invalid value encountered in log\n",
      "  return self.params[\"M\"] * np.log(1.0 + self.params[\"K\"] * pressure)\n",
      "/usr/local/lib/python3.6/dist-packages/pyiast/isotherms.py:351: RuntimeWarning: invalid value encountered in log\n",
      "  return self.params[\"M\"] * np.log(1.0 + self.params[\"K\"] * pressure)\n",
      "/usr/local/lib/python3.6/dist-packages/pyiast/isotherms.py:351: RuntimeWarning: invalid value encountered in log\n",
      "  return self.params[\"M\"] * np.log(1.0 + self.params[\"K\"] * pressure)\n",
      "/usr/local/lib/python3.6/dist-packages/pyiast/isotherms.py:351: RuntimeWarning: invalid value encountered in log\n",
      "  return self.params[\"M\"] * np.log(1.0 + self.params[\"K\"] * pressure)\n",
      "/usr/local/lib/python3.6/dist-packages/pyiast/isotherms.py:351: RuntimeWarning: invalid value encountered in log\n",
      "  return self.params[\"M\"] * np.log(1.0 + self.params[\"K\"] * pressure)\n",
      "/usr/local/lib/python3.6/dist-packages/pyiast/isotherms.py:351: RuntimeWarning: invalid value encountered in log\n",
      "  return self.params[\"M\"] * np.log(1.0 + self.params[\"K\"] * pressure)\n",
      "/usr/local/lib/python3.6/dist-packages/pyiast/isotherms.py:351: RuntimeWarning: invalid value encountered in log\n",
      "  return self.params[\"M\"] * np.log(1.0 + self.params[\"K\"] * pressure)\n",
      "/usr/local/lib/python3.6/dist-packages/pyiast/isotherms.py:351: RuntimeWarning: invalid value encountered in log\n",
      "  return self.params[\"M\"] * np.log(1.0 + self.params[\"K\"] * pressure)\n",
      "/usr/local/lib/python3.6/dist-packages/pyiast/isotherms.py:351: RuntimeWarning: invalid value encountered in log\n",
      "  return self.params[\"M\"] * np.log(1.0 + self.params[\"K\"] * pressure)\n",
      "/usr/local/lib/python3.6/dist-packages/pyiast/isotherms.py:351: RuntimeWarning: invalid value encountered in log\n",
      "  return self.params[\"M\"] * np.log(1.0 + self.params[\"K\"] * pressure)\n",
      "/usr/local/lib/python3.6/dist-packages/pyiast/isotherms.py:351: RuntimeWarning: invalid value encountered in log\n",
      "  return self.params[\"M\"] * np.log(1.0 + self.params[\"K\"] * pressure)\n"
     ]
    },
    {
     "data": {
      "image/png": "[encoded data removed]",
      "text/plain": [
       "<Figure size 1500x700 with 2 Axes>"
      ]
     },
     "metadata": {},
     "output_type": "display_data"
    }
   ],
   "source": [
    "fig, ax = plt.subplots(1, 2, figsize=(15, 7))\n",
    "###\n",
    "#   composition space\n",
    "###\n",
    "ax[0].set_title(\"composition space\")\n",
    "ax[0].set_xlabel(\"$p_A$ [partial pressure of species A]\")\n",
    "ax[0].set_ylabel(\"$p_B$ [partial pressure of species B]\")\n",
    "\n",
    "###\n",
    "#   sensor response space\n",
    "###\n",
    "ax[1].set_aspect('equal', 'box')\n",
    "ax[1].set_title(\"sensor response space\")\n",
    "ax[1].set_xlabel(\"$m_1$ [g gas] adsorbed mass in MOF 1\")\n",
    "ax[1].set_ylabel(\"$m_2$ [g gas] adsorbed mass in MOF 2\")\n",
    "\n",
    "###\n",
    "#   draw grid lines and their mapping\n",
    "###\n",
    "p_max = 5.0 # largest pressure we go to.\n",
    "dp = 0.5 # spacing between grid lines\n",
    "nb_pts = 50\n",
    "# these arrays will contain the correponding reponses to each point on the lines.\n",
    "m1 = np.zeros(nb_pts)\n",
    "m2 = np.zeros(nb_pts)\n",
    "for i in range(int(p_max / dp)+1):\n",
    "    ###\n",
    "    #   x = constant (vertical) grid lines\n",
    "    ###\n",
    "    p_a = i * dp # p_a is constant here.\n",
    "    \n",
    "    # plot the line in composition space\n",
    "#    draw_vert_line(p_a, 0, p_max, 0)\n",
    "    \n",
    "    # plot the image of the line in sensor response space\n",
    "    p_b = np.linspace(0.0, p_max, nb_pts)\n",
    "\n",
    "    # loop through points on the line\n",
    "    for j in range(nb_pts):\n",
    "        # get vector on this line\n",
    "        p_on_line = np.array([p_a, p_b[j]])\n",
    "        # compute the adsorbed mass in the two MOFs when exposed to this gas composition\n",
    "#        m1[j] = f(p_on_line, mof)[0]\n",
    "#        m2[j] = f(p_on_line, mof)[1]\n",
    "#    ax[1].plot(m1, m2, color=\"black\", lw=3)\n",
    "    \n",
    "    ###\n",
    "    #   y = constant (horizontal) grid lines\n",
    "    ###\n",
    "    p_b = i * dp # p_b is constant here.\n",
    " \n",
    "    # plot the line in composition space\n",
    "#    draw_horizontal_line(p_b, 0, p_max, 0)\n",
    "    \n",
    "    # plot the image of the line in sensor response space\n",
    "    p_a = np.linspace(0.0, p_max, nb_pts)\n",
    "\n",
    "    # loop through points on the line\n",
    "    for j in range(nb_pts):\n",
    "        # get vector on this line\n",
    "        p_on_line = np.array([p_a[j], p_b])\n",
    "        # compute the adsorbed mass in the two MOFs when exposed to this gas composition\n",
    "#        m1[j] = f(p_on_line, mof)[0]\n",
    "#        m2[j] = f(p_on_line, mof)[1]\n",
    "#    ax[1].plot(m1, m2, color=\"black\", lw=3)\n",
    "        \n",
    "###\n",
    "#   color the plane\n",
    "###\n",
    "# Initialize pa, pb for colormap\n",
    "pa = np.linspace(0, p_max)\n",
    "pb = np.linspace(0, p_max)\n",
    "\n",
    "# Create bivariate colormap for composition space\n",
    "z_composition = [[colorFromBivariateData(pa[i]/p_max, pb[j]/p_max) for i in range(np.size(pa))] for j in range(np.size(pb))]\n",
    "\n",
    "# find maximum mass\n",
    "m_max = f(np.array([p_max, p_max]))\n",
    "\n",
    "# Initialize m1, m2 for colormap\n",
    "num_grid_pts = 25\n",
    "m1_grid = np.linspace(0, m_max[0], num_grid_pts)\n",
    "m2_grid = np.linspace(0, m_max[1], num_grid_pts)\n",
    "\n",
    "# Initialize response space colormap, \n",
    "z_response = [[colorFromBivariateData(0, 0) for i in range(num_grid_pts)] for j in range(num_grid_pts)]\n",
    "\n",
    "# Modify bivariate colormap for response space based on mapping from composition space \n",
    "for i in range(num_grid_pts):\n",
    "    for j in range(num_grid_pts):\n",
    "        m_0 = np.array([m1_grid[i], m2_grid[j]])\n",
    "#         p = g_knn(m_0) # g(m_0, 0, p_max)\n",
    "        p = g(m_0)\n",
    "        if np.all(p < p_max):\n",
    "            z_response[j][i] = colorFromBivariateData(p[0] / p_max, p[1] / p_max)\n",
    "\n",
    "# Create extent of colormaps\n",
    "extent_composition = (0, p_max, 0, p_max) \n",
    "extent_response = (0, m_max[0], 0, m_max[1])\n",
    "\n",
    "# Plot colormaps in composition and response space\n",
    "ax[0].imshow(z_composition, extent=extent_composition, origin='lower')        \n",
    "ax[1].imshow(z_response, extent=extent_response,  origin='lower') \n",
    "ax[1].set_aspect('equal', 'box')\n",
    "ax[0].set_aspect('equal', 'box')\n",
    "\n",
    "# Add boarder around response space\n",
    "draw_mspace_boundaries(p_max, 1)\n",
    "\n",
    "# Add png to plot\n",
    "#irmof1_fig = mpimg.imread('irmof1.png')\n",
    "#imagebox = OffsetImage(irmof1_fig, zoom=0.1)\n",
    "#ab = AnnotationBbox(imagebox, (4.0, 4.0))\n",
    "#ax[0].add_artist(ab)\n",
    "\n",
    "# Testing to ensure points map to correct response space\n",
    "# p = [0,5]\n",
    "# m = [f_1(p), f_2(p)]\n",
    "# print(\"m :\", m)\n",
    "# ax[0].scatter([p[0]],[p[1]], color='red', s=70)\n",
    "# ax[1].scatter([m[0]],[m[1]], color='red', s=70)"
   ]
  },
  {
   "cell_type": "code",
   "execution_count": 22,
   "metadata": {},
   "outputs": [
    {
     "data": {
      "text/plain": [
       "array([0.        , 3.23529412])"
      ]
     },
     "execution_count": 22,
     "metadata": {},
     "output_type": "execute_result"
    }
   ],
   "source": [
    "m = np.array([0.1, 6.0])\n",
    "g(m)"
   ]
  },
  {
   "cell_type": "markdown",
   "metadata": {},
   "source": [
    "# Mapping Response Space to Composition Space"
   ]
  },
  {
   "cell_type": "code",
   "execution_count": null,
   "metadata": {},
   "outputs": [
    {
     "name": "stderr",
     "output_type": "stream",
     "text": [
      "/usr/local/lib/python3.6/dist-packages/pyiast/isotherms.py:351: RuntimeWarning: invalid value encountered in log\n",
      "  return self.params[\"M\"] * np.log(1.0 + self.params[\"K\"] * pressure)\n",
      "/usr/local/lib/python3.6/dist-packages/pyiast/isotherms.py:351: RuntimeWarning: invalid value encountered in log\n",
      "  return self.params[\"M\"] * np.log(1.0 + self.params[\"K\"] * pressure)\n",
      "/usr/local/lib/python3.6/dist-packages/pyiast/isotherms.py:351: RuntimeWarning: invalid value encountered in log\n",
      "  return self.params[\"M\"] * np.log(1.0 + self.params[\"K\"] * pressure)\n",
      "/usr/local/lib/python3.6/dist-packages/pyiast/isotherms.py:351: RuntimeWarning: invalid value encountered in log\n",
      "  return self.params[\"M\"] * np.log(1.0 + self.params[\"K\"] * pressure)\n",
      "/usr/local/lib/python3.6/dist-packages/pyiast/isotherms.py:351: RuntimeWarning: invalid value encountered in log\n",
      "  return self.params[\"M\"] * np.log(1.0 + self.params[\"K\"] * pressure)\n",
      "/usr/local/lib/python3.6/dist-packages/pyiast/isotherms.py:351: RuntimeWarning: invalid value encountered in log\n",
      "  return self.params[\"M\"] * np.log(1.0 + self.params[\"K\"] * pressure)\n",
      "/usr/local/lib/python3.6/dist-packages/pyiast/isotherms.py:351: RuntimeWarning: invalid value encountered in log\n",
      "  return self.params[\"M\"] * np.log(1.0 + self.params[\"K\"] * pressure)\n",
      "/usr/local/lib/python3.6/dist-packages/pyiast/isotherms.py:351: RuntimeWarning: invalid value encountered in log\n",
      "  return self.params[\"M\"] * np.log(1.0 + self.params[\"K\"] * pressure)\n",
      "/usr/local/lib/python3.6/dist-packages/pyiast/isotherms.py:351: RuntimeWarning: invalid value encountered in log\n",
      "  return self.params[\"M\"] * np.log(1.0 + self.params[\"K\"] * pressure)\n",
      "/usr/local/lib/python3.6/dist-packages/pyiast/isotherms.py:351: RuntimeWarning: invalid value encountered in log\n",
      "  return self.params[\"M\"] * np.log(1.0 + self.params[\"K\"] * pressure)\n",
      "/usr/local/lib/python3.6/dist-packages/pyiast/isotherms.py:351: RuntimeWarning: invalid value encountered in log\n",
      "  return self.params[\"M\"] * np.log(1.0 + self.params[\"K\"] * pressure)\n",
      "/usr/local/lib/python3.6/dist-packages/pyiast/isotherms.py:351: RuntimeWarning: invalid value encountered in log\n",
      "  return self.params[\"M\"] * np.log(1.0 + self.params[\"K\"] * pressure)\n",
      "/usr/local/lib/python3.6/dist-packages/pyiast/isotherms.py:351: RuntimeWarning: invalid value encountered in log\n",
      "  return self.params[\"M\"] * np.log(1.0 + self.params[\"K\"] * pressure)\n",
      "/usr/local/lib/python3.6/dist-packages/pyiast/isotherms.py:351: RuntimeWarning: invalid value encountered in log\n",
      "  return self.params[\"M\"] * np.log(1.0 + self.params[\"K\"] * pressure)\n",
      "/usr/local/lib/python3.6/dist-packages/pyiast/isotherms.py:351: RuntimeWarning: invalid value encountered in log\n",
      "  return self.params[\"M\"] * np.log(1.0 + self.params[\"K\"] * pressure)\n",
      "/usr/local/lib/python3.6/dist-packages/pyiast/isotherms.py:351: RuntimeWarning: invalid value encountered in log\n",
      "  return self.params[\"M\"] * np.log(1.0 + self.params[\"K\"] * pressure)\n",
      "/usr/local/lib/python3.6/dist-packages/pyiast/isotherms.py:351: RuntimeWarning: invalid value encountered in log\n",
      "  return self.params[\"M\"] * np.log(1.0 + self.params[\"K\"] * pressure)\n",
      "/usr/local/lib/python3.6/dist-packages/pyiast/isotherms.py:351: RuntimeWarning: invalid value encountered in log\n",
      "  return self.params[\"M\"] * np.log(1.0 + self.params[\"K\"] * pressure)\n",
      "/usr/local/lib/python3.6/dist-packages/pyiast/isotherms.py:351: RuntimeWarning: invalid value encountered in log\n",
      "  return self.params[\"M\"] * np.log(1.0 + self.params[\"K\"] * pressure)\n",
      "/usr/local/lib/python3.6/dist-packages/pyiast/isotherms.py:351: RuntimeWarning: invalid value encountered in log\n",
      "  return self.params[\"M\"] * np.log(1.0 + self.params[\"K\"] * pressure)\n",
      "/usr/local/lib/python3.6/dist-packages/pyiast/isotherms.py:351: RuntimeWarning: invalid value encountered in log\n",
      "  return self.params[\"M\"] * np.log(1.0 + self.params[\"K\"] * pressure)\n",
      "/usr/local/lib/python3.6/dist-packages/pyiast/isotherms.py:351: RuntimeWarning: invalid value encountered in log\n",
      "  return self.params[\"M\"] * np.log(1.0 + self.params[\"K\"] * pressure)\n",
      "/usr/local/lib/python3.6/dist-packages/pyiast/isotherms.py:351: RuntimeWarning: invalid value encountered in log\n",
      "  return self.params[\"M\"] * np.log(1.0 + self.params[\"K\"] * pressure)\n"
     ]
    }
   ],
   "source": [
    "fig, ax = plt.subplots(1, 3, figsize=(15, 7))\n",
    "###\n",
    "#   composition space\n",
    "###\n",
    "ax[1].set_title(\"composition space\")\n",
    "ax[1].set_xlabel(\"$p_A$ [partial pressure of species A]\")\n",
    "ax[1].set_ylabel(\"$p_B$ [partial pressure of species B]\")\n",
    "# set composition space to exclude negative pressures \n",
    "ax[1].set_xlim(xmin=0, xmax=p_max)\n",
    "ax[1].set_ylim(ymin=0, ymax=p_max)\n",
    "\n",
    "###\n",
    "#   sensor response space\n",
    "###\n",
    "ax[0].set_aspect('equal', 'box')\n",
    "ax[0].set_title(\"sensor response space\")\n",
    "ax[0].set_xlabel(\"$m_1$ [g gas] adsorbed mass in MOF 1\")\n",
    "ax[0].set_ylabel(\"$m_2$ [g gas] adsorbed mass in MOF 2\")\n",
    "\n",
    "###\n",
    "#   color the plane\n",
    "###\n",
    "nb_pts = 100\n",
    "# Initialize m1, m2 for colormap\n",
    "m1 = np.linspace(0, m_max[0], nb_pts)\n",
    "m2 = np.linspace(0, m_max[1], nb_pts)\n",
    "\n",
    "# Create bivariate colormap for response space\n",
    "z_response = [[colorFromBivariateData(m1[i]/m_max[0], m2[j]/m_max[1]) for i in range(np.size(m1))] \n",
    "                 for j in range(np.size(m2))]\n",
    "\n",
    "# Modify response space colormap to only have color where presssure is positive\n",
    "for i in range(np.shape(z_response)[0]):\n",
    "    for j in range(np.shape(z_response)[1]):\n",
    "        m_0 = np.array([m1[i], m2[j]])\n",
    "        p = g(m_0) \n",
    "        # zero out (i.e. set color to white) responses that correspond to negative pressures\n",
    "        if np.any(np.isnan(p)) or np.any(p > p_max):\n",
    "            z_response[j][i] = np.array([1, 1, 1, 1])\n",
    "            \n",
    "# Plot colormap on response space \n",
    "ax[0].imshow(z_response, extent=extent_response,  origin='lower')           \n",
    "ax[0].set_aspect('equal', 'box')\n",
    "ax[1].set_aspect('equal', 'box')    \n",
    "    \n",
    "# Create bivariate colormap for composition space based on mapping from response space \n",
    "for i in range(np.shape(z_composition)[0]):\n",
    "    for j in range(np.shape(z_composition)[1]):\n",
    "        p_0 = np.array([pa[i], pb[j]])\n",
    "        m = np.array([f_1(p_0), f_2(p_0)])\n",
    "        # zero out responses that are above m_max\n",
    "        if np.any(m > m_max):\n",
    "            z_composition[j][i] = np.array([1, 1, 1, 1])\n",
    "        else:\n",
    "            z_composition[j][i] = colorFromBivariateData(m[0]/m_max[0], m[1]/m_max[1])   \n",
    "\n",
    "# Plot colormap on composition space\n",
    "ax[1].imshow(z_composition, extent=extent_composition, origin='lower')        \n",
    "\n",
    "###\n",
    "#   draw grid lines and their mapping\n",
    "###\n",
    "dm = 0.1 # spacing between grid lines\n",
    "nb_pts = 100\n",
    "# these arrays will contain the correponding compositions to each point on the lines.\n",
    "p_a = np.zeros(nb_pts)\n",
    "p_b = np.zeros(nb_pts)\n",
    "\n",
    "\n",
    "for i in range(int(max(m_max) / dm)+1):\n",
    "    ###\n",
    "    #   x = constant (vertical) grid lines\n",
    "    ###\n",
    "    m1 = i * dm # m1 is constant here.\n",
    "\n",
    "    if m1 < m_max[0]:\n",
    "        m2_min, m2_max = valid_m2(m1)\n",
    "        draw_vert_line(m1, m2_min, m2_max, 0)\n",
    "    \n",
    "        # plot the image of the line in composition space\n",
    "        m2 = np.linspace(m2_min, m2_max, nb_pts)\n",
    "\n",
    "        # loop through points on the line\n",
    "        for j in range(nb_pts):\n",
    "            # get vector on this line\n",
    "            m_on_line = np.array([m1, m2[j]])\n",
    "            # compute the composition in the gas space when MOFs have this much gas absorbed\n",
    "            p_a[j], p_b[j] = g(m_on_line) \n",
    "        ax[1].plot(p_a, p_b, color=\"black\", lw=3)\n",
    "\n",
    "    ###\n",
    "    #   y = constant (horizontal) grid lines\n",
    "    ###\n",
    "    m2 = i * dm # m2 is constant here.\n",
    "\n",
    "    if m2 < m_max[1]:\n",
    "        m1_min, m1_max = valid_m1(m2)\n",
    "        draw_horizontal_line(m2, m1_min, m1_max, 0)\n",
    "        \n",
    "        # plot the image of the line in composition space\n",
    "        m1 = np.linspace(m1_min, m1_max, nb_pts)\n",
    "    \n",
    "        # loop through points on the line\n",
    "        for j in range(nb_pts):\n",
    "            # get vector on this line\n",
    "            m_on_line = np.array([m1[j], m2])\n",
    "            # compute the composition in the gas space when MOFs have this much gas absorbed\n",
    "            p_a[j], p_b[j] = g(m_on_line) \n",
    "        ax[1].plot(p_a, p_b, color=\"black\", lw=3)\n",
    "        \n",
    "# Add boarder around response space\n",
    "draw_mspace_boundaries(p_max, 0) \n",
    "\n",
    "# Create colormap for composition space\n",
    "κ_p = [[κ_of_p(np.array([pa, pb])) for pa in p_a] for pb in p_b]\n",
    "extent = (0, np.max(p_a), 0, np.max(p_b))\n",
    "img = ax[2].imshow(κ_p, extent=extent, origin='lower')  \n",
    "ax[2].set_xlabel(\"pa\")\n",
    "ax[2].set_ylabel(\"pb\")\n",
    "ax[2].set_title(\"composition space\")\n",
    "cbar = fig.colorbar(img, ax=ax[2])\n",
    "cbar.set_label('$κ$ [condition number]', rotation=270)\n",
    "\n",
    "#need to figure out how to use these colors in the colormap\n",
    "#cmap1 = plt.cm.Greens, cmap2 = plt.cm.YlOrRd\n",
    "\n",
    "\n",
    "# xy1 = (1.7, 0.5)\n",
    "# xy2 = (-0.4, 2.88)\n",
    "# con = matplotlib.patches.ConnectionPatch(\n",
    "#     xyA=xy1, coordsA=ax[0].transData,\n",
    "#     xyB=xy2, coordsB=ax[1].transData,\n",
    "#     arrowstyle=\"->\", shrinkB=5)\n",
    "# ax[1].add_artist(con)"
   ]
  },
  {
   "cell_type": "markdown",
   "metadata": {},
   "source": [
    "# Visualizing m_1(p) and m_2(p) in 3D"
   ]
  },
  {
   "cell_type": "code",
   "execution_count": null,
   "metadata": {},
   "outputs": [],
   "source": [
    "#%matplotlib notebook\n",
    "nb_pts = 100\n",
    "\n",
    "# Create 2D linspace from 0 to p_max\n",
    "p_a = np.outer(np.linspace(0, p_max, nb_pts), np.ones(nb_pts))\n",
    "p_b = p_a.copy().T # transpose\n",
    "\n",
    "# Create empty 2D array that is the same shape as p_a and p_b\n",
    "m1 = np.zeros((np.shape(p_a)[0], np.shape(p_a)[1]))\n",
    "m2 = np.zeros((np.shape(p_a)[0], np.shape(p_a)[1]))\n",
    "\n",
    "# Compute m_1(p), m_2(p) for each pair of pressures\n",
    "for i in range(np.shape(p_a)[0]):\n",
    "    for j in range(np.shape(p_b)[0]):\n",
    "        p = [p_a[i][j], p_b[i][j]]\n",
    "        m1[i][j] = np.array(f_1(p))\n",
    "        m2[i][j] = np.array(f_2(p))\n",
    "\n",
    "# 3D plot for m_1(p)\n",
    "fig = plt.figure()\n",
    "ax = fig.add_subplot(projection='3d')\n",
    "ax.plot_surface(p_a, p_b, m1)\n",
    "ax.text2D(0.05, 0.95, \"m_1(p)\", transform=ax.transAxes)\n",
    "ax.set_xlabel('p_a', color='blue')\n",
    "ax.set_ylabel('p_b', color='blue')\n",
    "ax.set_zlabel('m_1(p)', color='blue')\n",
    "ax.set_ylim(5,0)\n",
    "ax.dist = 11\n",
    "\n",
    "# 3D plot for m_2(p)\n",
    "fig = plt.figure()\n",
    "ax = fig.add_subplot(projection='3d')\n",
    "ax.plot_surface(p_a, p_b, m2)\n",
    "ax.text2D(0.05, 0.95, \"m_2(p)\", transform=ax.transAxes)\n",
    "ax.set_xlabel('p_a', color='blue')\n",
    "ax.set_ylabel('p_b', color='blue')\n",
    "ax.set_zlabel('m_2(p)', color='blue')\n",
    "ax.set_ylim(5,0)\n",
    "ax.dist = 11"
   ]
  },
  {
   "cell_type": "markdown",
   "metadata": {},
   "source": [
    "# plot $\\kappa$ for inverse problem on the m- and p-planes"
   ]
  },
  {
   "cell_type": "code",
   "execution_count": null,
   "metadata": {},
   "outputs": [],
   "source": [
    "#K1 = [1,2]\n",
    "#K2 = [3,4]\n",
    "#M1 = 1\n",
    "#M2 = 2\n",
    "\n",
    "\n",
    "      \n",
    "#print(κ_of_p(np.array([10.0, 10.0])))\n",
    "#g([0.6, 0.2], 0, np.Inf)"
   ]
  },
  {
   "cell_type": "code",
   "execution_count": null,
   "metadata": {},
   "outputs": [],
   "source": [
    "plt.style.use(\"default\")\n",
    "p = np.linspace(0.001, 10)\n",
    "# Create colormap for composition space\n",
    "κ_p = [[κ_of_p(np.array([pa, pb])) for pa in p] for pb in p]\n",
    "extent = (0, np.max(p), 0, np.max(p))\n",
    "plt.imshow(κ_p, extent=extent, origin='lower')  \n",
    "plt.xlabel(\"pa\")\n",
    "plt.ylabel(\"pb\")\n",
    "plt.colorbar()"
   ]
  },
  {
   "cell_type": "code",
   "execution_count": null,
   "metadata": {},
   "outputs": [],
   "source": [
    "K1 = [1,2]\n",
    "K2 = [3,4]\n",
    "M1 = 1\n",
    "M2 = 2\n",
    "\n",
    "# gets inverse condition number in terms of m\n",
    "def κ_of_m(m):\n",
    "    p = g(m, 0, np.Inf)\n",
    "    J_f = np.array([ [M1*K1[0]/(1 + np.dot(K1, p))**2, M1*K1[1]/(1 + np.dot(K1, p))**2],\n",
    "       [M2*K2[0]/(1 + np.dot(K2, p))**2, M2*K2[1]/(1 + np.dot(K2, p))**2]])\n",
    "    J_g = np.linalg.inv(J_f) # by inverse function theorem    \n",
    "    return np.linalg.norm(m) / np.linalg.norm(p) * np.linalg.norm(J_g, ord=2)\n",
    "    \n",
    "print(κ_of_m(np.array([10.0, 10.0])))\n",
    "#g([0.6, 0.2], 0, np.Inf)"
   ]
  },
  {
   "cell_type": "code",
   "execution_count": null,
   "metadata": {},
   "outputs": [],
   "source": [
    "import numpy as np\n",
    "import matplotlib.pyplot as plt\n",
    "\n",
    "n_lines = 5\n",
    "x = np.linspace(0, 10)\n",
    "phase_shift = np.linspace(0, np.pi, n_lines)\n",
    "\n",
    "color_idx = np.linspace(0, 1, n_lines)\n",
    "for i, shift in zip(color_idx, phase_shift):\n",
    "    print(i)\n",
    "    plt.plot(x, np.sin(x - shift), color=plt.cm.cool(i), lw=3)\n",
    "\n",
    "plt.show()"
   ]
  },
  {
   "cell_type": "code",
   "execution_count": null,
   "metadata": {},
   "outputs": [],
   "source": []
  }
 ],
 "metadata": {
  "@webio": {
   "lastCommId": "e7ad7e066366418f9a40816152e67d0a",
   "lastKernelId": "1a9fc595-927b-44b9-8042-894002a42150"
  },
  "kernelspec": {
   "display_name": "Python 3",
   "language": "python",
   "name": "python3"
  },
  "language_info": {
   "codemirror_mode": {
    "name": "ipython",
    "version": 3
   },
   "file_extension": ".py",
   "mimetype": "text/x-python",
   "name": "python",
   "nbconvert_exporter": "python",
   "pygments_lexer": "ipython3",
   "version": "3.6.9"
  }
 },
 "nbformat": 4,
 "nbformat_minor": 4
}
