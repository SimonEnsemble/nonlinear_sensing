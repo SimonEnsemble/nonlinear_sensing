{
 "cells": [
  {
   "cell_type": "code",
   "execution_count": 2,
   "metadata": {},
   "outputs": [],
   "source": [
    "import scipy\n",
    "from ipywidgets import interact, FloatSlider\n",
    "import numpy as np\n",
    "import matplotlib.pyplot as plt"
   ]
  },
  {
   "cell_type": "code",
   "execution_count": 4,
   "metadata": {},
   "outputs": [],
   "source": [
    "# K_T = transpose of K -- Langmuir constants corresponding to the binding of the species \n",
    "# p = the partial pressures of the species in the mixed gas phase \n",
    "p = np.linspace(0, 100, 500)\n",
    "def adsorption(K, M):\n",
    "    m = M * (K * p) / (1 + K * p)\n",
    "    \n",
    "    # plot response\n",
    "    fig = plt.figure()\n",
    "    ax = plt.gca()\n",
    "\n",
    "    ax.spines['left'].set_position('zero')\n",
    "    ax.spines['right'].set_color('none')\n",
    "    ax.spines['bottom'].set_position('zero')\n",
    "    ax.spines['top'].set_color('none')\n",
    "    ax.xaxis.set_ticks_position('bottom')\n",
    "    ax.yaxis.set_ticks_position('left')\n",
    "    plt.plot(p, m, color=\"C2\", linewidth=4)\n",
    "    plt.ylim([-10, 10])\n",
    "    plt.xlim([-2, 10])\n",
    "    plt.xlabel(\"partial pressure $p$\")\n",
    "    plt.ylabel(\"$m(p)$\")\n",
    "    #plt.title(\"\")\n",
    "    plt.show()"
   ]
  },
  {
   "cell_type": "code",
   "execution_count": 5,
   "metadata": {},
   "outputs": [
    {
     "data": {
      "application/vnd.jupyter.widget-view+json": {
       "model_id": "04f87038fa724be7b343ff70341a8da3",
       "version_major": 2,
       "version_minor": 0
      },
      "text/plain": [
       "interactive(children=(FloatSlider(value=3.0, description='K', max=10.0, min=0.5), FloatSlider(value=5.0, descr…"
      ]
     },
     "metadata": {},
     "output_type": "display_data"
    },
    {
     "data": {
      "text/plain": [
       "<function __main__.adsorption(K, M)>"
      ]
     },
     "execution_count": 5,
     "metadata": {},
     "output_type": "execute_result"
    }
   ],
   "source": [
    "K_slider = FloatSlider(value=3.0, min=0.5, max=10.0, step=0.1)\n",
    "M_slider = FloatSlider(value=5.0, min=0.0, max=10.0, step=0.1)\n",
    "\n",
    "interact(adsorption, K=K_slider, M=M_slider)"
   ]
  },
  {
   "cell_type": "code",
   "execution_count": null,
   "metadata": {},
   "outputs": [],
   "source": []
  }
 ],
 "metadata": {
  "kernelspec": {
   "display_name": "Python 3",
   "language": "python",
   "name": "python3"
  },
  "language_info": {
   "codemirror_mode": {
    "name": "ipython",
    "version": 3
   },
   "file_extension": ".py",
   "mimetype": "text/x-python",
   "name": "python",
   "nbconvert_exporter": "python",
   "pygments_lexer": "ipython3",
   "version": "3.7.3"
  }
 },
 "nbformat": 4,
 "nbformat_minor": 2
}
